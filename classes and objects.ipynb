{
 "cells": [
  {
   "cell_type": "code",
   "execution_count": 1,
   "id": "97187296",
   "metadata": {},
   "outputs": [],
   "source": [
    "# classes and objects"
   ]
  },
  {
   "cell_type": "code",
   "execution_count": 2,
   "id": "af670d6d",
   "metadata": {},
   "outputs": [],
   "source": [
    "# python me everything is an object"
   ]
  },
  {
   "cell_type": "code",
   "execution_count": 4,
   "id": "cb2ade7b",
   "metadata": {},
   "outputs": [],
   "source": [
    "# classes are callable.\n",
    "# just like functions in python\n",
    "# callable means ()\n",
    "# for example\n",
    "t = tuple('ABC')\n",
    "# above statement shows that tuple is callable\n",
    "# tuple is a class in python \n",
    "\n",
    "# classes are defined using the class keyword in \n",
    "# class ke andar kuch na kuch statement likhna pdega\n",
    "\n",
    "\n",
    "# class acts as a blueprint for objects\\"
   ]
  },
  {
   "cell_type": "code",
   "execution_count": 7,
   "id": "622e3c61",
   "metadata": {},
   "outputs": [],
   "source": [
    "# classes ka name should always be in Pascal case\n",
    "class Circle:\n",
    "    pass"
   ]
  },
  {
   "cell_type": "code",
   "execution_count": 8,
   "id": "08cb859e",
   "metadata": {},
   "outputs": [],
   "source": [
    "# classes are also objects in python\n",
    "# we can assign variables to classes\n",
    "t = tuple('ABC')"
   ]
  },
  {
   "cell_type": "code",
   "execution_count": 9,
   "id": "dbc4ac6b",
   "metadata": {},
   "outputs": [
    {
     "data": {
      "text/plain": [
       "('A', 'B', 'C')"
      ]
     },
     "execution_count": 9,
     "metadata": {},
     "output_type": "execute_result"
    }
   ],
   "source": [
    "t"
   ]
  },
  {
   "cell_type": "code",
   "execution_count": 10,
   "id": "524b396c",
   "metadata": {},
   "outputs": [],
   "source": [
    "my_tuple = tuple"
   ]
  },
  {
   "cell_type": "code",
   "execution_count": 11,
   "id": "69edcabd",
   "metadata": {},
   "outputs": [],
   "source": [
    "t = my_tuple('ABC')"
   ]
  },
  {
   "cell_type": "code",
   "execution_count": 12,
   "id": "799b8a43",
   "metadata": {},
   "outputs": [
    {
     "data": {
      "text/plain": [
       "('A', 'B', 'C')"
      ]
     },
     "execution_count": 12,
     "metadata": {},
     "output_type": "execute_result"
    }
   ],
   "source": [
    "t"
   ]
  },
  {
   "cell_type": "code",
   "execution_count": 13,
   "id": "78a83f92",
   "metadata": {},
   "outputs": [],
   "source": [
    "# every class has a dunder attribute called as __name__\n",
    "# and also __doc__"
   ]
  },
  {
   "cell_type": "code",
   "execution_count": 14,
   "id": "0d94f9b2",
   "metadata": {},
   "outputs": [],
   "source": [
    "class Circle:\n",
    "    pass"
   ]
  },
  {
   "cell_type": "code",
   "execution_count": 15,
   "id": "278281fb",
   "metadata": {},
   "outputs": [
    {
     "data": {
      "text/plain": [
       "'Circle'"
      ]
     },
     "execution_count": 15,
     "metadata": {},
     "output_type": "execute_result"
    }
   ],
   "source": [
    "Circle.__name__ # dunder name attribute"
   ]
  },
  {
   "cell_type": "code",
   "execution_count": 19,
   "id": "8c1fa616",
   "metadata": {},
   "outputs": [],
   "source": [
    "p = Circle"
   ]
  },
  {
   "cell_type": "code",
   "execution_count": 21,
   "id": "97baf423",
   "metadata": {},
   "outputs": [
    {
     "data": {
      "text/plain": [
       "'Circle'"
      ]
     },
     "execution_count": 21,
     "metadata": {},
     "output_type": "execute_result"
    }
   ],
   "source": [
    "p.__name__"
   ]
  },
  {
   "cell_type": "code",
   "execution_count": 22,
   "id": "2cbd59ab",
   "metadata": {},
   "outputs": [],
   "source": [
    "# '''docstring''' === triple quotes \n",
    "class Circle:\n",
    "    \"\"\"This is circle class\"\"\""
   ]
  },
  {
   "cell_type": "code",
   "execution_count": 23,
   "id": "ae98cd4c",
   "metadata": {},
   "outputs": [
    {
     "data": {
      "text/plain": [
       "'This is circle class'"
      ]
     },
     "execution_count": 23,
     "metadata": {},
     "output_type": "execute_result"
    }
   ],
   "source": [
    "Circle.__doc__"
   ]
  },
  {
   "cell_type": "code",
   "execution_count": 24,
   "id": "10a23f94",
   "metadata": {},
   "outputs": [],
   "source": [
    "# class -- __name__ and __doc__"
   ]
  },
  {
   "cell_type": "code",
   "execution_count": 26,
   "id": "c6b86c16",
   "metadata": {},
   "outputs": [],
   "source": [
    "l1 = [1,2,4,5] # its state is it elements"
   ]
  },
  {
   "cell_type": "code",
   "execution_count": 27,
   "id": "c92f7495",
   "metadata": {},
   "outputs": [],
   "source": [
    "l2 = [4,5,6,7] # "
   ]
  },
  {
   "cell_type": "code",
   "execution_count": 28,
   "id": "54a589e5",
   "metadata": {},
   "outputs": [],
   "source": [
    "l1.append(56)"
   ]
  },
  {
   "cell_type": "code",
   "execution_count": 29,
   "id": "2874b22a",
   "metadata": {},
   "outputs": [
    {
     "data": {
      "text/plain": [
       "[1, 2, 4, 5, 56]"
      ]
     },
     "execution_count": 29,
     "metadata": {},
     "output_type": "execute_result"
    }
   ],
   "source": [
    "l1"
   ]
  },
  {
   "cell_type": "code",
   "execution_count": 30,
   "id": "a7e165cb",
   "metadata": {},
   "outputs": [
    {
     "data": {
      "text/plain": [
       "[4, 5, 6, 7]"
      ]
     },
     "execution_count": 30,
     "metadata": {},
     "output_type": "execute_result"
    }
   ],
   "source": [
    "l2"
   ]
  },
  {
   "cell_type": "code",
   "execution_count": 31,
   "id": "70f987b9",
   "metadata": {},
   "outputs": [],
   "source": [
    "# why does l1.append() do not change l2\n",
    "# whenever we create an instance(object) of a class\n",
    "# then all the methods inside that class are binded\n",
    "# to that particular instance.\n",
    "\n",
    "# Every class can have multiple instances\n",
    "# Every instance has some state and functionalities\n",
    "# These functionalities is binded to each instance"
   ]
  },
  {
   "cell_type": "code",
   "execution_count": 34,
   "id": "c0f0f640",
   "metadata": {},
   "outputs": [],
   "source": [
    "class Circle:\n",
    "    '''This is a circle class'''"
   ]
  },
  {
   "cell_type": "code",
   "execution_count": 35,
   "id": "d1670a83",
   "metadata": {},
   "outputs": [],
   "source": [
    "c1 = Circle()"
   ]
  },
  {
   "cell_type": "code",
   "execution_count": 36,
   "id": "51a05995",
   "metadata": {},
   "outputs": [
    {
     "data": {
      "text/plain": [
       "__main__.Circle"
      ]
     },
     "execution_count": 36,
     "metadata": {},
     "output_type": "execute_result"
    }
   ],
   "source": [
    "# c1 is an object of class Circle\n",
    "c1.__class__"
   ]
  },
  {
   "cell_type": "code",
   "execution_count": 37,
   "id": "75942ed2",
   "metadata": {},
   "outputs": [
    {
     "data": {
      "text/plain": [
       "True"
      ]
     },
     "execution_count": 37,
     "metadata": {},
     "output_type": "execute_result"
    }
   ],
   "source": [
    "c1.__class__ is Circle"
   ]
  },
  {
   "cell_type": "code",
   "execution_count": 38,
   "id": "554ff466",
   "metadata": {},
   "outputs": [
    {
     "data": {
      "text/plain": [
       "True"
      ]
     },
     "execution_count": 38,
     "metadata": {},
     "output_type": "execute_result"
    }
   ],
   "source": [
    "# isinstance() method\n",
    "isinstance(c1, Circle)"
   ]
  },
  {
   "cell_type": "code",
   "execution_count": 39,
   "id": "24d9d8b8",
   "metadata": {},
   "outputs": [
    {
     "data": {
      "text/plain": [
       "__main__.Circle"
      ]
     },
     "execution_count": 39,
     "metadata": {},
     "output_type": "execute_result"
    }
   ],
   "source": [
    "type(c1)\n",
    "# __main__ == jupyter"
   ]
  },
  {
   "cell_type": "code",
   "execution_count": 40,
   "id": "a88a32fb",
   "metadata": {},
   "outputs": [],
   "source": [
    "# most of the time we should not use magic attributes(__name__, __doc__, __class__)\n",
    "# for every magic method we have some non-magic functions"
   ]
  },
  {
   "cell_type": "code",
   "execution_count": 41,
   "id": "b7456467",
   "metadata": {},
   "outputs": [],
   "source": [
    "l = [1,2,3]"
   ]
  },
  {
   "cell_type": "code",
   "execution_count": 42,
   "id": "3554bf47",
   "metadata": {},
   "outputs": [
    {
     "data": {
      "text/plain": [
       "'[1, 2, 3]'"
      ]
     },
     "execution_count": 42,
     "metadata": {},
     "output_type": "execute_result"
    }
   ],
   "source": [
    "# do not use this directly\n",
    "l.__str__()"
   ]
  },
  {
   "cell_type": "code",
   "execution_count": 43,
   "id": "50cdfb3a",
   "metadata": {},
   "outputs": [
    {
     "data": {
      "text/plain": [
       "'[1, 2, 3]'"
      ]
     },
     "execution_count": 43,
     "metadata": {},
     "output_type": "execute_result"
    }
   ],
   "source": [
    "# use str()\n",
    "str(l)"
   ]
  },
  {
   "cell_type": "code",
   "execution_count": 44,
   "id": "a8246188",
   "metadata": {},
   "outputs": [],
   "source": [
    "# private , protected , public\n",
    "# Python me aisi koi cheez nhi he\n",
    "c1 = Circle()"
   ]
  },
  {
   "cell_type": "code",
   "execution_count": 45,
   "id": "1e8f6cf4",
   "metadata": {},
   "outputs": [],
   "source": [
    "# attributes\n",
    "c1.radius = 10"
   ]
  },
  {
   "cell_type": "code",
   "execution_count": 46,
   "id": "95d88420",
   "metadata": {},
   "outputs": [],
   "source": [
    "# attributes\n",
    "c1.center = (2,3)"
   ]
  },
  {
   "cell_type": "code",
   "execution_count": 47,
   "id": "c0122d26",
   "metadata": {},
   "outputs": [
    {
     "data": {
      "text/plain": [
       "{'radius': 10, 'center': (2, 3)}"
      ]
     },
     "execution_count": 47,
     "metadata": {},
     "output_type": "execute_result"
    }
   ],
   "source": [
    "# c1 ke saare attributes dekhne hain?\n",
    "c1.__dict__"
   ]
  },
  {
   "cell_type": "code",
   "execution_count": 48,
   "id": "e379765f",
   "metadata": {},
   "outputs": [
    {
     "data": {
      "text/plain": [
       "{'radius': 10, 'center': (2, 3)}"
      ]
     },
     "execution_count": 48,
     "metadata": {},
     "output_type": "execute_result"
    }
   ],
   "source": [
    "vars(c1)"
   ]
  },
  {
   "cell_type": "code",
   "execution_count": 49,
   "id": "c4dc7545",
   "metadata": {},
   "outputs": [],
   "source": [
    "c2 = Circle()"
   ]
  },
  {
   "cell_type": "code",
   "execution_count": 50,
   "id": "14c8ffb5",
   "metadata": {},
   "outputs": [
    {
     "data": {
      "text/plain": [
       "{}"
      ]
     },
     "execution_count": 50,
     "metadata": {},
     "output_type": "execute_result"
    }
   ],
   "source": [
    "c2.__dict__"
   ]
  },
  {
   "cell_type": "code",
   "execution_count": 51,
   "id": "9f55552b",
   "metadata": {},
   "outputs": [
    {
     "data": {
      "text/plain": [
       "{}"
      ]
     },
     "execution_count": 51,
     "metadata": {},
     "output_type": "execute_result"
    }
   ],
   "source": [
    "vars(c2)"
   ]
  },
  {
   "cell_type": "code",
   "execution_count": 56,
   "id": "eb019490",
   "metadata": {},
   "outputs": [],
   "source": [
    "# we want ki every circle ke pass radius\n",
    "#__init__() method -- whenever an instance of class is created\n",
    "\n",
    "# class ke andar \n",
    "# self is not reserved keyword\n",
    "# convention he self ko use \n",
    "class Person:\n",
    "    def __init__(self):\n",
    "        print(f\"A new person created with id {id(self)}\")"
   ]
  },
  {
   "cell_type": "code",
   "execution_count": 57,
   "id": "d53807ee",
   "metadata": {},
   "outputs": [
    {
     "name": "stdout",
     "output_type": "stream",
     "text": [
      "A new person created with id 2621524306480\n"
     ]
    }
   ],
   "source": [
    "# whenever we call a class, it creates an empty object\n",
    "# and then passes it to __init__() method\n",
    "# so that you can set attributes on that object(instance)\n",
    "p1 = Person() # Person.__init__(p1)"
   ]
  },
  {
   "cell_type": "code",
   "execution_count": 58,
   "id": "d1a85494",
   "metadata": {},
   "outputs": [
    {
     "data": {
      "text/plain": [
       "2621524306480"
      ]
     },
     "execution_count": 58,
     "metadata": {},
     "output_type": "execute_result"
    }
   ],
   "source": [
    "id(p1)"
   ]
  },
  {
   "cell_type": "code",
   "execution_count": 59,
   "id": "deb9bba3",
   "metadata": {},
   "outputs": [],
   "source": [
    "class Circle:\n",
    "    def __init__(self, radius):\n",
    "        self.rad = radius"
   ]
  },
  {
   "cell_type": "code",
   "execution_count": 61,
   "id": "a0b1abd9",
   "metadata": {},
   "outputs": [],
   "source": [
    "c1 = Circle(10)"
   ]
  },
  {
   "cell_type": "code",
   "execution_count": 63,
   "id": "164d7aa9",
   "metadata": {},
   "outputs": [
    {
     "data": {
      "text/plain": [
       "10"
      ]
     },
     "execution_count": 63,
     "metadata": {},
     "output_type": "execute_result"
    }
   ],
   "source": [
    "c1.rad"
   ]
  },
  {
   "cell_type": "code",
   "execution_count": 64,
   "id": "afa11b1c",
   "metadata": {},
   "outputs": [
    {
     "data": {
      "text/plain": [
       "({'rad': 10}, {'rad': 10})"
      ]
     },
     "execution_count": 64,
     "metadata": {},
     "output_type": "execute_result"
    }
   ],
   "source": [
    "vars(c1), c1.__dict__"
   ]
  },
  {
   "cell_type": "code",
   "execution_count": 65,
   "id": "b6a36ccb",
   "metadata": {},
   "outputs": [],
   "source": [
    "class Circle:\n",
    "    def __init__(self, radius, x, y):\n",
    "        self.radius = radius\n",
    "        self.center = x, y # (x, y)\n",
    "        "
   ]
  },
  {
   "cell_type": "code",
   "execution_count": 66,
   "id": "206560a2",
   "metadata": {},
   "outputs": [],
   "source": [
    "c = Circle(10, 1,2)"
   ]
  },
  {
   "cell_type": "code",
   "execution_count": 67,
   "id": "7d941338",
   "metadata": {},
   "outputs": [
    {
     "data": {
      "text/plain": [
       "{'radius': 10, 'center': (1, 2)}"
      ]
     },
     "execution_count": 67,
     "metadata": {},
     "output_type": "execute_result"
    }
   ],
   "source": [
    "vars(c)"
   ]
  },
  {
   "cell_type": "markdown",
   "id": "3f453c25",
   "metadata": {},
   "source": [
    "# adding functionalities to our class"
   ]
  },
  {
   "cell_type": "code",
   "execution_count": 68,
   "id": "6cddb6f6",
   "metadata": {},
   "outputs": [],
   "source": [
    "class Person:\n",
    "    def __init__(self, name):\n",
    "        self.name = name\n",
    "    \n",
    "    # greet abhilash.greet()\n",
    "    def greet(self):\n",
    "        print(f\"Hi, My name is {self.name}\")"
   ]
  },
  {
   "cell_type": "code",
   "execution_count": 69,
   "id": "9e1179c0",
   "metadata": {},
   "outputs": [],
   "source": [
    "abhi = Person('Abhishek')"
   ]
  },
  {
   "cell_type": "code",
   "execution_count": 70,
   "id": "f8bf2af7",
   "metadata": {},
   "outputs": [
    {
     "name": "stdout",
     "output_type": "stream",
     "text": [
      "Hi, My name is Abhishek\n"
     ]
    }
   ],
   "source": [
    "abhi.greet()"
   ]
  },
  {
   "cell_type": "code",
   "execution_count": 79,
   "id": "a24369d3",
   "metadata": {},
   "outputs": [],
   "source": [
    "class Circle:\n",
    "    def __init__(self, x , y, radius):\n",
    "#         print(pi)\n",
    "        self.radius = radius\n",
    "        self.center = x, y\n",
    "        \n",
    "    def scale(self, factor):\n",
    "        if factor > 0:\n",
    "            self.radius = self.radius * factor\n",
    "    \n",
    "    # (2,3) (5,6) = (7,9)\n",
    "    def translate(self, x, y):\n",
    "        self.center = self.center[0] + x, self.center[1] + y\n",
    "        \n",
    "    def area(self):\n",
    "        from math import pi\n",
    "        # 2 ** 3 = 2 ki power 3 = 8\n",
    "        return pi * (self.radius ** 2)\n",
    "        "
   ]
  },
  {
   "cell_type": "code",
   "execution_count": 80,
   "id": "482b1ff9",
   "metadata": {},
   "outputs": [],
   "source": [
    "c = Circle(0,0,1)"
   ]
  },
  {
   "cell_type": "code",
   "execution_count": 81,
   "id": "cf9af7ae",
   "metadata": {},
   "outputs": [
    {
     "data": {
      "text/plain": [
       "3.141592653589793"
      ]
     },
     "execution_count": 81,
     "metadata": {},
     "output_type": "execute_result"
    }
   ],
   "source": [
    "c.area()"
   ]
  },
  {
   "cell_type": "code",
   "execution_count": 82,
   "id": "9c1d5fb5",
   "metadata": {},
   "outputs": [],
   "source": [
    "# Python me sbkuch public he\n",
    "# Python assumes ki ye samajdhar developers -- jo bro-code nhi break krenge\n",
    "\n",
    "# Naming convention\n",
    "# self.name\n",
    "# self._name == developers _name is private\n",
    "# self.__name == name mangling"
   ]
  },
  {
   "cell_type": "code",
   "execution_count": 87,
   "id": "d3112679",
   "metadata": {},
   "outputs": [],
   "source": [
    "class Person:\n",
    "    def __init__(self, name,age):\n",
    "        self.name = name\n",
    "        self._age = age\n",
    "    \n",
    "    def get_my_age(self):\n",
    "        return self._age"
   ]
  },
  {
   "cell_type": "code",
   "execution_count": 88,
   "id": "23b79e8c",
   "metadata": {},
   "outputs": [],
   "source": [
    "p = Person(\"Abhishek\", 23)"
   ]
  },
  {
   "cell_type": "code",
   "execution_count": 89,
   "id": "26c17a8f",
   "metadata": {},
   "outputs": [
    {
     "data": {
      "text/plain": [
       "'Abhishek'"
      ]
     },
     "execution_count": 89,
     "metadata": {},
     "output_type": "execute_result"
    }
   ],
   "source": [
    "p.name"
   ]
  },
  {
   "cell_type": "code",
   "execution_count": 90,
   "id": "caa2a1bb",
   "metadata": {},
   "outputs": [
    {
     "data": {
      "text/plain": [
       "23"
      ]
     },
     "execution_count": 90,
     "metadata": {},
     "output_type": "execute_result"
    }
   ],
   "source": [
    "# ye mt kro\n",
    "p._age"
   ]
  },
  {
   "cell_type": "code",
   "execution_count": 91,
   "id": "313d66e6",
   "metadata": {},
   "outputs": [
    {
     "data": {
      "text/plain": [
       "23"
      ]
     },
     "execution_count": 91,
     "metadata": {},
     "output_type": "execute_result"
    }
   ],
   "source": [
    "# ye kro\n",
    "p.get_my_age()"
   ]
  },
  {
   "cell_type": "markdown",
   "id": "cace6181",
   "metadata": {},
   "source": [
    "# special methods"
   ]
  },
  {
   "cell_type": "code",
   "execution_count": 137,
   "id": "6453d3d8",
   "metadata": {},
   "outputs": [],
   "source": [
    "# __init__() special method\n",
    "# __str__() special method\n",
    "# __repr__() special method\n",
    "# __eq__() special method\n",
    "\n",
    "class Person:\n",
    "    def __init__(self, name):\n",
    "        self.name = name\n",
    "    \n",
    "    # for normal users\n",
    "    def __str__(self):\n",
    "        return self.name\n",
    "    \n",
    "    # for developers\n",
    "    def __repr__(self):\n",
    "        return f\"Person with name {self.name} and id is {id(self)}\"\n",
    "    # self == other ==> self.__eq__(other)\n",
    "    def __eq__(self, other):\n",
    "        return self.name == other.name\n",
    "    #   return self.name == other.name and self.age == other.age\n",
    "        "
   ]
  },
  {
   "cell_type": "code",
   "execution_count": 138,
   "id": "a3594026",
   "metadata": {},
   "outputs": [],
   "source": [
    "p = Person(\"Abhilash\")"
   ]
  },
  {
   "cell_type": "code",
   "execution_count": 139,
   "id": "6817031d",
   "metadata": {},
   "outputs": [
    {
     "name": "stdout",
     "output_type": "stream",
     "text": [
      "Abhilash\n"
     ]
    }
   ],
   "source": [
    "print(p) # first sees __str__() and then if not there then uses __repr__()"
   ]
  },
  {
   "cell_type": "code",
   "execution_count": 140,
   "id": "6b2b95d9",
   "metadata": {},
   "outputs": [
    {
     "data": {
      "text/plain": [
       "('Abhilash', 'Abhilash')"
      ]
     },
     "execution_count": 140,
     "metadata": {},
     "output_type": "execute_result"
    }
   ],
   "source": [
    "p.__str__(), str(p)"
   ]
  },
  {
   "cell_type": "code",
   "execution_count": 141,
   "id": "8f999c03",
   "metadata": {},
   "outputs": [
    {
     "data": {
      "text/plain": [
       "('Person with name Abhilash and id is 2621559495936',\n",
       " 'Person with name Abhilash and id is 2621559495936')"
      ]
     },
     "execution_count": 141,
     "metadata": {},
     "output_type": "execute_result"
    }
   ],
   "source": [
    "p.__repr__(), repr(p)"
   ]
  },
  {
   "cell_type": "code",
   "execution_count": 142,
   "id": "9020c094",
   "metadata": {},
   "outputs": [],
   "source": [
    "# __eq__ () method"
   ]
  },
  {
   "cell_type": "code",
   "execution_count": 143,
   "id": "fc5b107b",
   "metadata": {},
   "outputs": [],
   "source": [
    "p1 = Person('Abhilash')"
   ]
  },
  {
   "cell_type": "code",
   "execution_count": 144,
   "id": "2f7d9b9d",
   "metadata": {},
   "outputs": [],
   "source": [
    "p2 = Person(\"Abhilash\")"
   ]
  },
  {
   "cell_type": "code",
   "execution_count": 145,
   "id": "52dcddec",
   "metadata": {},
   "outputs": [
    {
     "data": {
      "text/plain": [
       "True"
      ]
     },
     "execution_count": 145,
     "metadata": {},
     "output_type": "execute_result"
    }
   ],
   "source": [
    "p1 == p2 # == uses __eq__() method , is"
   ]
  },
  {
   "cell_type": "code",
   "execution_count": 146,
   "id": "dfeccf77",
   "metadata": {},
   "outputs": [],
   "source": [
    "# name mangling, properties, class methods, class attributes, decorators"
   ]
  },
  {
   "cell_type": "code",
   "execution_count": 154,
   "id": "ee04f4b0",
   "metadata": {},
   "outputs": [
    {
     "ename": "ValueError",
     "evalue": "First argument should be integer",
     "output_type": "error",
     "traceback": [
      "\u001b[1;31m---------------------------------------------------------------------------\u001b[0m",
      "\u001b[1;31mValueError\u001b[0m                                Traceback (most recent call last)",
      "\u001b[1;32m~\\AppData\\Local\\Temp\\ipykernel_36688\\1133348371.py\u001b[0m in \u001b[0;36m<module>\u001b[1;34m\u001b[0m\n\u001b[0;32m     12\u001b[0m     \u001b[1;32mreturn\u001b[0m \u001b[0mx\u001b[0m\u001b[1;33m\u001b[0m\u001b[1;33m\u001b[0m\u001b[0m\n\u001b[0;32m     13\u001b[0m \u001b[1;33m\u001b[0m\u001b[0m\n\u001b[1;32m---> 14\u001b[1;33m \u001b[0madd\u001b[0m\u001b[1;33m(\u001b[0m\u001b[1;34m'abhishek'\u001b[0m\u001b[1;33m,\u001b[0m\u001b[1;36m3\u001b[0m\u001b[1;33m)\u001b[0m\u001b[1;33m\u001b[0m\u001b[1;33m\u001b[0m\u001b[0m\n\u001b[0m",
      "\u001b[1;32m~\\AppData\\Local\\Temp\\ipykernel_36688\\1133348371.py\u001b[0m in \u001b[0;36mwrapper\u001b[1;34m(x, y)\u001b[0m\n\u001b[0;32m      5\u001b[0m         \u001b[1;32mif\u001b[0m \u001b[0mtype\u001b[0m\u001b[1;33m(\u001b[0m\u001b[0mx\u001b[0m\u001b[1;33m)\u001b[0m \u001b[1;32mis\u001b[0m \u001b[0mint\u001b[0m\u001b[1;33m:\u001b[0m\u001b[1;33m\u001b[0m\u001b[1;33m\u001b[0m\u001b[0m\n\u001b[0;32m      6\u001b[0m             \u001b[1;32mreturn\u001b[0m \u001b[1;33m[\u001b[0m\u001b[0mfunc\u001b[0m\u001b[1;33m(\u001b[0m\u001b[0mx\u001b[0m\u001b[1;33m,\u001b[0m\u001b[0my\u001b[0m\u001b[1;33m)\u001b[0m\u001b[1;33m]\u001b[0m\u001b[1;33m*\u001b[0m \u001b[1;36m2\u001b[0m\u001b[1;33m\u001b[0m\u001b[1;33m\u001b[0m\u001b[0m\n\u001b[1;32m----> 7\u001b[1;33m         \u001b[1;32mraise\u001b[0m \u001b[0mValueError\u001b[0m\u001b[1;33m(\u001b[0m\u001b[1;34m\"First argument should be integer\"\u001b[0m\u001b[1;33m)\u001b[0m\u001b[1;33m\u001b[0m\u001b[1;33m\u001b[0m\u001b[0m\n\u001b[0m\u001b[0;32m      8\u001b[0m     \u001b[1;32mreturn\u001b[0m \u001b[0mwrapper\u001b[0m\u001b[1;33m\u001b[0m\u001b[1;33m\u001b[0m\u001b[0m\n\u001b[0;32m      9\u001b[0m \u001b[1;33m\u001b[0m\u001b[0m\n",
      "\u001b[1;31mValueError\u001b[0m: First argument should be integer"
     ]
    }
   ],
   "source": [
    "from functools import wraps\n",
    "def check_first_integer(func):\n",
    "    @wraps(func)\n",
    "    def wrapper(x,y):\n",
    "        if type(x) is int:\n",
    "            return [func(x,y)]* 2\n",
    "        raise ValueError(\"First argument should be integer\")\n",
    "    return wrapper\n",
    "\n",
    "@check_first_integer\n",
    "def add(x, y):\n",
    "    return x\n",
    "    \n",
    "add('abhishek',3)"
   ]
  },
  {
   "cell_type": "code",
   "execution_count": null,
   "id": "03f1ea26",
   "metadata": {},
   "outputs": [],
   "source": []
  },
  {
   "cell_type": "code",
   "execution_count": null,
   "id": "5375f0dc",
   "metadata": {},
   "outputs": [],
   "source": []
  }
 ],
 "metadata": {
  "kernelspec": {
   "display_name": "Python 3 (ipykernel)",
   "language": "python",
   "name": "python3"
  },
  "language_info": {
   "codemirror_mode": {
    "name": "ipython",
    "version": 3
   },
   "file_extension": ".py",
   "mimetype": "text/x-python",
   "name": "python",
   "nbconvert_exporter": "python",
   "pygments_lexer": "ipython3",
   "version": "3.9.13"
  }
 },
 "nbformat": 4,
 "nbformat_minor": 5
}
