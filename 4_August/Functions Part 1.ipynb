{
 "cells": [
  {
   "cell_type": "code",
   "execution_count": 1,
   "id": "b765e8a5",
   "metadata": {},
   "outputs": [],
   "source": [
    "# generator , decorator, function"
   ]
  },
  {
   "cell_type": "code",
   "execution_count": 4,
   "id": "5e9999e5",
   "metadata": {},
   "outputs": [
    {
     "name": "stdout",
     "output_type": "stream",
     "text": [
      "Hello\n"
     ]
    }
   ],
   "source": [
    "# function \n",
    "# functions are just like normal objects in Python\n",
    "# to increase the readability and re-usability of the code\n",
    "# modular approach\n",
    "\n",
    "# In python functions are just like any other normal object\n",
    "# which means that they can be passed into other functions as well and returned from other functions as well.\n",
    "# which also means that we can assign functions to variables as well\n",
    "\n",
    "\n",
    "# They are defined using the def keyword -- reserved keyword in python\n",
    "# indentation rules should be followed as python does not have curly braces\n",
    "\n",
    "# empty parameter vector\n",
    "def say_hello():\n",
    "    pass\n",
    "\n",
    "print(\"Hello\")"
   ]
  },
  {
   "cell_type": "code",
   "execution_count": 5,
   "id": "edaccff5",
   "metadata": {},
   "outputs": [
    {
     "data": {
      "text/plain": [
       "{'__name__': '__main__',\n",
       " '__doc__': 'Automatically created module for IPython interactive environment',\n",
       " '__package__': None,\n",
       " '__loader__': None,\n",
       " '__spec__': None,\n",
       " '__builtin__': <module 'builtins' (built-in)>,\n",
       " '__builtins__': <module 'builtins' (built-in)>,\n",
       " '_ih': ['',\n",
       "  '# generator , decorator, function',\n",
       "  '# function \\n# functions are just like normal objects in Python\\n# to increase the readability and re-usability of the code\\n# modular approach\\n\\n# In python functions are just like any other normal object\\n# which means that they can be passed into other functions as well and returned from other functions as well.\\n# which also means that we can assign functions to variables as well\\n\\n\\n# They are defined using the def keyword -- reserved keyword in python\\n# indentation rules should be followed as python does not have curly braces\\n\\n\\ndef say_hello():\\n    ',\n",
       "  '# function \\n# functions are just like normal objects in Python\\n# to increase the readability and re-usability of the code\\n# modular approach\\n\\n# In python functions are just like any other normal object\\n# which means that they can be passed into other functions as well and returned from other functions as well.\\n# which also means that we can assign functions to variables as well\\n\\n\\n# They are defined using the def keyword -- reserved keyword in python\\n# indentation rules should be followed as python does not have curly braces\\n\\n\\ndef say_hello():\\n    pass',\n",
       "  '# function \\n# functions are just like normal objects in Python\\n# to increase the readability and re-usability of the code\\n# modular approach\\n\\n# In python functions are just like any other normal object\\n# which means that they can be passed into other functions as well and returned from other functions as well.\\n# which also means that we can assign functions to variables as well\\n\\n\\n# They are defined using the def keyword -- reserved keyword in python\\n# indentation rules should be followed as python does not have curly braces\\n\\n\\ndef say_hello():\\n    pass\\nprint(\"Hello\")',\n",
       "  '# since functions are objects, so they are stored inside the globals dictionary.\\n# Every object that we define inside the jupyter notebook is stored inside the globals() in the form of key-value pair\\nglobals()'],\n",
       " '_oh': {},\n",
       " '_dh': ['C:\\\\Users\\\\HU496FA\\\\Desktop\\\\python-abdul-bari'],\n",
       " 'In': ['',\n",
       "  '# generator , decorator, function',\n",
       "  '# function \\n# functions are just like normal objects in Python\\n# to increase the readability and re-usability of the code\\n# modular approach\\n\\n# In python functions are just like any other normal object\\n# which means that they can be passed into other functions as well and returned from other functions as well.\\n# which also means that we can assign functions to variables as well\\n\\n\\n# They are defined using the def keyword -- reserved keyword in python\\n# indentation rules should be followed as python does not have curly braces\\n\\n\\ndef say_hello():\\n    ',\n",
       "  '# function \\n# functions are just like normal objects in Python\\n# to increase the readability and re-usability of the code\\n# modular approach\\n\\n# In python functions are just like any other normal object\\n# which means that they can be passed into other functions as well and returned from other functions as well.\\n# which also means that we can assign functions to variables as well\\n\\n\\n# They are defined using the def keyword -- reserved keyword in python\\n# indentation rules should be followed as python does not have curly braces\\n\\n\\ndef say_hello():\\n    pass',\n",
       "  '# function \\n# functions are just like normal objects in Python\\n# to increase the readability and re-usability of the code\\n# modular approach\\n\\n# In python functions are just like any other normal object\\n# which means that they can be passed into other functions as well and returned from other functions as well.\\n# which also means that we can assign functions to variables as well\\n\\n\\n# They are defined using the def keyword -- reserved keyword in python\\n# indentation rules should be followed as python does not have curly braces\\n\\n\\ndef say_hello():\\n    pass\\nprint(\"Hello\")',\n",
       "  '# since functions are objects, so they are stored inside the globals dictionary.\\n# Every object that we define inside the jupyter notebook is stored inside the globals() in the form of key-value pair\\nglobals()'],\n",
       " 'Out': {},\n",
       " 'get_ipython': <bound method InteractiveShell.get_ipython of <ipykernel.zmqshell.ZMQInteractiveShell object at 0x000002129CFD5B50>>,\n",
       " 'exit': <IPython.core.autocall.ZMQExitAutocall at 0x2129d358160>,\n",
       " 'quit': <IPython.core.autocall.ZMQExitAutocall at 0x2129d358160>,\n",
       " '_': '',\n",
       " '__': '',\n",
       " '___': '',\n",
       " '_i': '# function \\n# functions are just like normal objects in Python\\n# to increase the readability and re-usability of the code\\n# modular approach\\n\\n# In python functions are just like any other normal object\\n# which means that they can be passed into other functions as well and returned from other functions as well.\\n# which also means that we can assign functions to variables as well\\n\\n\\n# They are defined using the def keyword -- reserved keyword in python\\n# indentation rules should be followed as python does not have curly braces\\n\\n\\ndef say_hello():\\n    pass\\nprint(\"Hello\")',\n",
       " '_ii': '# function \\n# functions are just like normal objects in Python\\n# to increase the readability and re-usability of the code\\n# modular approach\\n\\n# In python functions are just like any other normal object\\n# which means that they can be passed into other functions as well and returned from other functions as well.\\n# which also means that we can assign functions to variables as well\\n\\n\\n# They are defined using the def keyword -- reserved keyword in python\\n# indentation rules should be followed as python does not have curly braces\\n\\n\\ndef say_hello():\\n    pass',\n",
       " '_iii': '# function \\n# functions are just like normal objects in Python\\n# to increase the readability and re-usability of the code\\n# modular approach\\n\\n# In python functions are just like any other normal object\\n# which means that they can be passed into other functions as well and returned from other functions as well.\\n# which also means that we can assign functions to variables as well\\n\\n\\n# They are defined using the def keyword -- reserved keyword in python\\n# indentation rules should be followed as python does not have curly braces\\n\\n\\ndef say_hello():\\n    ',\n",
       " '_i1': '# generator , decorator, function',\n",
       " '_i2': '# function \\n# functions are just like normal objects in Python\\n# to increase the readability and re-usability of the code\\n# modular approach\\n\\n# In python functions are just like any other normal object\\n# which means that they can be passed into other functions as well and returned from other functions as well.\\n# which also means that we can assign functions to variables as well\\n\\n\\n# They are defined using the def keyword -- reserved keyword in python\\n# indentation rules should be followed as python does not have curly braces\\n\\n\\ndef say_hello():\\n    ',\n",
       " '_i3': '# function \\n# functions are just like normal objects in Python\\n# to increase the readability and re-usability of the code\\n# modular approach\\n\\n# In python functions are just like any other normal object\\n# which means that they can be passed into other functions as well and returned from other functions as well.\\n# which also means that we can assign functions to variables as well\\n\\n\\n# They are defined using the def keyword -- reserved keyword in python\\n# indentation rules should be followed as python does not have curly braces\\n\\n\\ndef say_hello():\\n    pass',\n",
       " 'say_hello': <function __main__.say_hello()>,\n",
       " '_i4': '# function \\n# functions are just like normal objects in Python\\n# to increase the readability and re-usability of the code\\n# modular approach\\n\\n# In python functions are just like any other normal object\\n# which means that they can be passed into other functions as well and returned from other functions as well.\\n# which also means that we can assign functions to variables as well\\n\\n\\n# They are defined using the def keyword -- reserved keyword in python\\n# indentation rules should be followed as python does not have curly braces\\n\\n\\ndef say_hello():\\n    pass\\nprint(\"Hello\")',\n",
       " '_i5': '# since functions are objects, so they are stored inside the globals dictionary.\\n# Every object that we define inside the jupyter notebook is stored inside the globals() in the form of key-value pair\\nglobals()'}"
      ]
     },
     "execution_count": 5,
     "metadata": {},
     "output_type": "execute_result"
    }
   ],
   "source": [
    "# since functions are objects, so they are stored inside the globals dictionary.\n",
    "# Every object that we define inside the jupyter notebook is stored inside the globals() in the form of key-value pair\n",
    "globals()"
   ]
  },
  {
   "cell_type": "code",
   "execution_count": 6,
   "id": "0de59797",
   "metadata": {},
   "outputs": [
    {
     "data": {
      "text/plain": [
       "<function __main__.say_hello()>"
      ]
     },
     "execution_count": 6,
     "metadata": {},
     "output_type": "execute_result"
    }
   ],
   "source": [
    "globals()['say_hello']"
   ]
  },
  {
   "cell_type": "code",
   "execution_count": 9,
   "id": "0c3f279b",
   "metadata": {},
   "outputs": [
    {
     "data": {
      "text/plain": [
       "(function, 2278970463712, '0x2129d3995e0')"
      ]
     },
     "execution_count": 9,
     "metadata": {},
     "output_type": "execute_result"
    }
   ],
   "source": [
    "# since functions are objects\n",
    "type(say_hello), id(say_hello), hex(id(say_hello))"
   ]
  },
  {
   "cell_type": "code",
   "execution_count": 11,
   "id": "402cc29c",
   "metadata": {},
   "outputs": [
    {
     "data": {
      "text/plain": [
       "'say_hello'"
      ]
     },
     "execution_count": 11,
     "metadata": {},
     "output_type": "execute_result"
    }
   ],
   "source": [
    "# function have a dunder attribute called __name__(dunder name)\n",
    "say_hello.__name__"
   ]
  },
  {
   "cell_type": "code",
   "execution_count": 12,
   "id": "aca29e8e",
   "metadata": {},
   "outputs": [],
   "source": [
    "x = say_hello"
   ]
  },
  {
   "cell_type": "code",
   "execution_count": 14,
   "id": "e3814859",
   "metadata": {},
   "outputs": [
    {
     "data": {
      "text/plain": [
       "(True, True)"
      ]
     },
     "execution_count": 14,
     "metadata": {},
     "output_type": "execute_result"
    }
   ],
   "source": [
    "x is say_hello, id(x) == id(say_hello)"
   ]
  },
  {
   "cell_type": "code",
   "execution_count": 15,
   "id": "1f124891",
   "metadata": {},
   "outputs": [
    {
     "data": {
      "text/plain": [
       "'say_hello'"
      ]
     },
     "execution_count": 15,
     "metadata": {},
     "output_type": "execute_result"
    }
   ],
   "source": [
    "x.__name__"
   ]
  },
  {
   "cell_type": "code",
   "execution_count": 16,
   "id": "9710b633",
   "metadata": {},
   "outputs": [
    {
     "data": {
      "text/plain": [
       "NoneType"
      ]
     },
     "execution_count": 16,
     "metadata": {},
     "output_type": "execute_result"
    }
   ],
   "source": [
    "# In python, function always returns something.\n",
    "# We use return keyword.\n",
    "# If we do not explicitly mention the return type, then it returns NoneType\n",
    "\n",
    "type(say_hello())"
   ]
  },
  {
   "cell_type": "code",
   "execution_count": 17,
   "id": "87cfaa61",
   "metadata": {},
   "outputs": [
    {
     "data": {
      "text/plain": [
       "6"
      ]
     },
     "execution_count": 17,
     "metadata": {},
     "output_type": "execute_result"
    }
   ],
   "source": [
    "# parameter vs arguments\n",
    "\n",
    "# parameter vector == (a,b,c)\n",
    "def add(a,b,c):\n",
    "    return a + b + c\n",
    "\n",
    "# argument vector == (1,2,3)\n",
    "add(1,2,3)"
   ]
  },
  {
   "cell_type": "code",
   "execution_count": 18,
   "id": "8adcfe9b",
   "metadata": {},
   "outputs": [],
   "source": [
    "# But how does python which argument to send to which parameter?\n",
    "# using the concept of positions -- positional arguments"
   ]
  },
  {
   "cell_type": "code",
   "execution_count": 24,
   "id": "1afa757e",
   "metadata": {},
   "outputs": [
    {
     "name": "stdout",
     "output_type": "stream",
     "text": [
      "before sum_ locals : {'a': 1, 'b': 2, 'c': 3} <class 'dict'>\n",
      "after sum_ locals : {'a': 1, 'b': 2, 'c': 3, 'sum_': 6}\n"
     ]
    },
    {
     "data": {
      "text/plain": [
       "6"
      ]
     },
     "execution_count": 24,
     "metadata": {},
     "output_type": "execute_result"
    }
   ],
   "source": [
    "# python functions have a dictionary inside them called locals()\n",
    "# It stores the values of each of the parameters and also the variables created inside the function\n",
    "\n",
    "def add(a,b,c):\n",
    "    print(f\"before sum_ locals : {locals()} {type(locals())}\")\n",
    "    sum_ = a + b +c\n",
    "    print(f\"after sum_ locals : {locals()}\")\n",
    "    return sum_\n",
    "\n",
    "\n",
    "# After the functions returns values, the locals() dictionary is flushed(emptied)\n",
    "add(1,2,3)\n",
    "    "
   ]
  },
  {
   "cell_type": "code",
   "execution_count": 25,
   "id": "aa2e9179",
   "metadata": {},
   "outputs": [
    {
     "name": "stdout",
     "output_type": "stream",
     "text": [
      "before sum_ locals : {'a': -2, 'b': 3, 'c': 4} <class 'dict'>\n",
      "after sum_ locals : {'a': -2, 'b': 3, 'c': 4, 'sum_': 5}\n"
     ]
    },
    {
     "data": {
      "text/plain": [
       "5"
      ]
     },
     "execution_count": 25,
     "metadata": {},
     "output_type": "execute_result"
    }
   ],
   "source": [
    "add(-2,3,4)"
   ]
  },
  {
   "cell_type": "code",
   "execution_count": 26,
   "id": "67aaff24",
   "metadata": {},
   "outputs": [
    {
     "data": {
      "text/plain": [
       "(6, 6)"
      ]
     },
     "execution_count": 26,
     "metadata": {},
     "output_type": "execute_result"
    }
   ],
   "source": [
    "# keyword argument\n",
    "\n",
    "def add(a,b,c):\n",
    "    return a + b + c\n",
    "\n",
    "# add(1,2,3)\n",
    "# add(3,2,1)\n",
    "# add(a=1,b=2,c=3)\n",
    "# when we use keyword argument completely, then order does not matter\n",
    "add(a=1,b=2,c=3), add(c=3,b=2,a=1)"
   ]
  },
  {
   "cell_type": "code",
   "execution_count": 27,
   "id": "9808aa1d",
   "metadata": {},
   "outputs": [
    {
     "ename": "SyntaxError",
     "evalue": "positional argument follows keyword argument (2224854668.py, line 6)",
     "output_type": "error",
     "traceback": [
      "\u001b[1;36m  File \u001b[1;32m\"C:\\Users\\HU496FA\\AppData\\Local\\Temp\\ipykernel_16780\\2224854668.py\"\u001b[1;36m, line \u001b[1;32m6\u001b[0m\n\u001b[1;33m    add(1, b=2, 3)\u001b[0m\n\u001b[1;37m                 ^\u001b[0m\n\u001b[1;31mSyntaxError\u001b[0m\u001b[1;31m:\u001b[0m positional argument follows keyword argument\n"
     ]
    }
   ],
   "source": [
    "# we can mix keyword argument and positional arguments inside the argument vector\n",
    "\n",
    "def add(a,b,c):\n",
    "    return a + b + c\n",
    "\n",
    "# we cannot use positional arguments once we have started using the keyword arguments\n",
    "add(1, b=2, 3)"
   ]
  },
  {
   "cell_type": "code",
   "execution_count": 28,
   "id": "66fb3b50",
   "metadata": {},
   "outputs": [
    {
     "ename": "TypeError",
     "evalue": "add() got multiple values for argument 'a'",
     "output_type": "error",
     "traceback": [
      "\u001b[1;31m---------------------------------------------------------------------------\u001b[0m",
      "\u001b[1;31mTypeError\u001b[0m                                 Traceback (most recent call last)",
      "\u001b[1;32m~\\AppData\\Local\\Temp\\ipykernel_16780\\2001723684.py\u001b[0m in \u001b[0;36m<module>\u001b[1;34m\u001b[0m\n\u001b[1;32m----> 1\u001b[1;33m \u001b[0madd\u001b[0m\u001b[1;33m(\u001b[0m\u001b[1;36m1\u001b[0m\u001b[1;33m,\u001b[0m \u001b[0mb\u001b[0m\u001b[1;33m=\u001b[0m\u001b[1;36m2\u001b[0m\u001b[1;33m,\u001b[0m \u001b[0ma\u001b[0m\u001b[1;33m=\u001b[0m\u001b[1;36m3\u001b[0m\u001b[1;33m)\u001b[0m\u001b[1;33m\u001b[0m\u001b[1;33m\u001b[0m\u001b[0m\n\u001b[0m",
      "\u001b[1;31mTypeError\u001b[0m: add() got multiple values for argument 'a'"
     ]
    }
   ],
   "source": [
    "# we cannot give mutliple values for a parameter\n",
    "add(1, b=2, a=3)"
   ]
  },
  {
   "cell_type": "code",
   "execution_count": 29,
   "id": "e9e407f0",
   "metadata": {},
   "outputs": [
    {
     "data": {
      "text/plain": [
       "-8640"
      ]
     },
     "execution_count": 29,
     "metadata": {},
     "output_type": "execute_result"
    }
   ],
   "source": [
    "# once you start using keyword arguments inside the argument vector, the order does not matter after the point of start\n",
    "\n",
    "def multiply(a,b,c,d,e,f):\n",
    "    return a * b * c * d * e * f\n",
    "\n",
    "multiply(1,2,3,f=90, e=-8, d=2)"
   ]
  },
  {
   "cell_type": "code",
   "execution_count": 34,
   "id": "22713955",
   "metadata": {},
   "outputs": [
    {
     "name": "stdout",
     "output_type": "stream",
     "text": [
      "(1, 2, 34, 45, 5, [5, True], {5}, {'name': 'Abhishek'}) <class 'tuple'>\n"
     ]
    }
   ],
   "source": [
    "# star parameters\n",
    "\n",
    "# Most people use arguments and parameters interchangebly.\n",
    "\n",
    "def add(*values):\n",
    "    print(values, type(values))\n",
    "    \n",
    "add(1,2,34,45,5,[5,True],{5}, {'name':'Abhishek'})"
   ]
  },
  {
   "cell_type": "code",
   "execution_count": 35,
   "id": "6103ad23",
   "metadata": {},
   "outputs": [
    {
     "data": {
      "text/plain": [
       "(15, 6)"
      ]
     },
     "execution_count": 35,
     "metadata": {},
     "output_type": "execute_result"
    }
   ],
   "source": [
    "def add(*args):\n",
    "    # args is a tuple and thus it is iterable.So, we can use sum() on it\n",
    "    # sum() takes an iterable and gives us the returned sum\n",
    "    sum_ = sum(args)\n",
    "    return sum_\n",
    "\n",
    "add(1,2,3,4,5), add(1,2,3)\n",
    "    "
   ]
  },
  {
   "cell_type": "code",
   "execution_count": 37,
   "id": "980ccf89",
   "metadata": {},
   "outputs": [
    {
     "data": {
      "text/plain": [
       "2"
      ]
     },
     "execution_count": 37,
     "metadata": {},
     "output_type": "execute_result"
    }
   ],
   "source": [
    "# we can also pass arguments in the form of an iterable to a function\n",
    "\n",
    "def numbers(a,b,c):\n",
    "    return a - b + c\n",
    "\n",
    "# numbers(1,2,4)\n",
    "# numbers(c=1,b=-9,a=3)\n",
    "numbers(*[1,2,3])"
   ]
  },
  {
   "cell_type": "code",
   "execution_count": 41,
   "id": "f082bdd0",
   "metadata": {},
   "outputs": [],
   "source": [
    "# sometimes we want certain number of positional arguments inside a function \n",
    "\n",
    "\n",
    "# In this function we need to pass atleast 2 parameters >= 2\n",
    "def say_hello(name, age , *others):\n",
    "    print(f\"My name is {name} and my age is {age}\")\n",
    "    print(others)\n",
    "    \n",
    "# say_hello(\"Abhilash\") -- we passed only 1 pos arguments whereas 2 were required"
   ]
  },
  {
   "cell_type": "code",
   "execution_count": 42,
   "id": "78673957",
   "metadata": {},
   "outputs": [
    {
     "name": "stdout",
     "output_type": "stream",
     "text": [
      "My name is Abhishek and my age is 23\n",
      "()\n"
     ]
    }
   ],
   "source": [
    "say_hello('Abhishek', 23)"
   ]
  },
  {
   "cell_type": "code",
   "execution_count": 43,
   "id": "306965fe",
   "metadata": {},
   "outputs": [
    {
     "name": "stdout",
     "output_type": "stream",
     "text": [
      "My name is Abhishek and my age is 23\n",
      "('Chicken roll',)\n"
     ]
    }
   ],
   "source": [
    "say_hello('Abhishek', 23, 'Chicken roll')"
   ]
  },
  {
   "cell_type": "code",
   "execution_count": 44,
   "id": "9903dec1",
   "metadata": {},
   "outputs": [
    {
     "ename": "TypeError",
     "evalue": "greet() missing 1 required keyword-only argument: 'hobby'",
     "output_type": "error",
     "traceback": [
      "\u001b[1;31m---------------------------------------------------------------------------\u001b[0m",
      "\u001b[1;31mTypeError\u001b[0m                                 Traceback (most recent call last)",
      "\u001b[1;32m~\\AppData\\Local\\Temp\\ipykernel_16780\\3018861492.py\u001b[0m in \u001b[0;36m<module>\u001b[1;34m\u001b[0m\n\u001b[0;32m      5\u001b[0m     \u001b[0mprint\u001b[0m\u001b[1;33m(\u001b[0m\u001b[1;34mf\"My hobby is {hobby}\"\u001b[0m\u001b[1;33m)\u001b[0m\u001b[1;33m\u001b[0m\u001b[1;33m\u001b[0m\u001b[0m\n\u001b[0;32m      6\u001b[0m \u001b[1;33m\u001b[0m\u001b[0m\n\u001b[1;32m----> 7\u001b[1;33m \u001b[0mgreet\u001b[0m\u001b[1;33m(\u001b[0m\u001b[1;34m'Abhishek'\u001b[0m\u001b[1;33m,\u001b[0m \u001b[1;36m23\u001b[0m\u001b[1;33m)\u001b[0m\u001b[1;33m\u001b[0m\u001b[1;33m\u001b[0m\u001b[0m\n\u001b[0m",
      "\u001b[1;31mTypeError\u001b[0m: greet() missing 1 required keyword-only argument: 'hobby'"
     ]
    }
   ],
   "source": [
    "# sometimes we require that some arguments be passed as positional arguments and others be forced to be passed as keyword arguments\n",
    "# hobby be passed as a keyword-only argument\n",
    "def greet(name, age, *, hobby):\n",
    "    print(f\"My name is {name} and my age is {age}\")\n",
    "    print(f\"My hobby is {hobby}\")\n",
    "    \n",
    "# greet() missing 1 required keyword-only argument: 'hobby'\n",
    "greet('Abhishek', 23)"
   ]
  },
  {
   "cell_type": "code",
   "execution_count": 46,
   "id": "bdefc535",
   "metadata": {},
   "outputs": [
    {
     "name": "stdout",
     "output_type": "stream",
     "text": [
      "My name is Abhishek and my age is 23\n",
      "My hobby is playing football\n"
     ]
    }
   ],
   "source": [
    "# greet('Abhishek', 23, \"playing football\")\n",
    "greet('Abhishek', 23, hobby=\"playing football\")"
   ]
  },
  {
   "cell_type": "code",
   "execution_count": null,
   "id": "87f3fa82",
   "metadata": {},
   "outputs": [],
   "source": []
  }
 ],
 "metadata": {
  "kernelspec": {
   "display_name": "Python 3 (ipykernel)",
   "language": "python",
   "name": "python3"
  },
  "language_info": {
   "codemirror_mode": {
    "name": "ipython",
    "version": 3
   },
   "file_extension": ".py",
   "mimetype": "text/x-python",
   "name": "python",
   "nbconvert_exporter": "python",
   "pygments_lexer": "ipython3",
   "version": "3.9.13"
  }
 },
 "nbformat": 4,
 "nbformat_minor": 5
}
