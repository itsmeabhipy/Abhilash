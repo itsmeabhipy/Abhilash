{
 "cells": [
  {
   "cell_type": "code",
   "execution_count": 1,
   "id": "b728317e",
   "metadata": {},
   "outputs": [],
   "source": [
    "# lambda functions\n",
    "\n",
    "\n",
    "def add(a,b,c):\n",
    "    return a+b+c\n"
   ]
  },
  {
   "cell_type": "code",
   "execution_count": 2,
   "id": "797baacb",
   "metadata": {},
   "outputs": [],
   "source": [
    "f = lambda a,b,c : a+b+c"
   ]
  },
  {
   "cell_type": "code",
   "execution_count": 3,
   "id": "2c36b49d",
   "metadata": {},
   "outputs": [
    {
     "data": {
      "text/plain": [
       "6"
      ]
     },
     "execution_count": 3,
     "metadata": {},
     "output_type": "execute_result"
    }
   ],
   "source": [
    "f(1,2,3)"
   ]
  },
  {
   "cell_type": "code",
   "execution_count": 8,
   "id": "df1c9ca5",
   "metadata": {},
   "outputs": [],
   "source": [
    "# using comprehension inside lambda\n",
    "# returns an identity matrix of m cross m\n",
    "identity_generator = lambda m: [[1 if i == j else 0 for j in range(m)] for i in range(m)]"
   ]
  },
  {
   "cell_type": "code",
   "execution_count": 9,
   "id": "1a29786b",
   "metadata": {},
   "outputs": [
    {
     "data": {
      "text/plain": [
       "[[1, 0, 0, 0, 0, 0],\n",
       " [0, 1, 0, 0, 0, 0],\n",
       " [0, 0, 1, 0, 0, 0],\n",
       " [0, 0, 0, 1, 0, 0],\n",
       " [0, 0, 0, 0, 1, 0],\n",
       " [0, 0, 0, 0, 0, 1]]"
      ]
     },
     "execution_count": 9,
     "metadata": {},
     "output_type": "execute_result"
    }
   ],
   "source": [
    "identity_generator(6)"
   ]
  },
  {
   "cell_type": "code",
   "execution_count": 7,
   "id": "90d3d2a7",
   "metadata": {},
   "outputs": [
    {
     "data": {
      "text/plain": [
       "'<lambda>'"
      ]
     },
     "execution_count": 7,
     "metadata": {},
     "output_type": "execute_result"
    }
   ],
   "source": [
    "identity_generator.__name__"
   ]
  },
  {
   "cell_type": "code",
   "execution_count": 10,
   "id": "8184beed",
   "metadata": {},
   "outputs": [],
   "source": [
    "# name, _name(private attributes),__name,name_,__name__(dunder name)\n",
    "# _,__,__________ (generally used when we are not using the variable name as such)"
   ]
  },
  {
   "cell_type": "code",
   "execution_count": 13,
   "id": "485c6278",
   "metadata": {},
   "outputs": [
    {
     "name": "stdout",
     "output_type": "stream",
     "text": [
      "hello\n",
      "hello\n",
      "hello\n",
      "hello\n",
      "hello\n"
     ]
    }
   ],
   "source": [
    "# style \n",
    "for ______________________________________ in range(5):\n",
    "    # it is independent of i\n",
    "    print(\"hello\")"
   ]
  },
  {
   "cell_type": "markdown",
   "id": "2181c1f2",
   "metadata": {},
   "source": [
    "# Map function"
   ]
  },
  {
   "cell_type": "code",
   "execution_count": 14,
   "id": "2d2fe8df",
   "metadata": {},
   "outputs": [
    {
     "data": {
      "text/plain": [
       "1"
      ]
     },
     "execution_count": 14,
     "metadata": {},
     "output_type": "execute_result"
    }
   ],
   "source": [
    "# map takes an function and an iterable\n",
    "# map() returns an iterator \n",
    "m = map(lambda x : -x, [-1,-2,-3,-4,-5])\n",
    "next(m)"
   ]
  },
  {
   "cell_type": "code",
   "execution_count": 19,
   "id": "b6ddace7",
   "metadata": {},
   "outputs": [
    {
     "ename": "StopIteration",
     "evalue": "",
     "output_type": "error",
     "traceback": [
      "\u001b[1;31m---------------------------------------------------------------------------\u001b[0m",
      "\u001b[1;31mStopIteration\u001b[0m                             Traceback (most recent call last)",
      "\u001b[1;32m~\\AppData\\Local\\Temp\\ipykernel_17148\\1080171644.py\u001b[0m in \u001b[0;36m<module>\u001b[1;34m\u001b[0m\n\u001b[1;32m----> 1\u001b[1;33m \u001b[0mnext\u001b[0m\u001b[1;33m(\u001b[0m\u001b[0mm\u001b[0m\u001b[1;33m)\u001b[0m\u001b[1;33m\u001b[0m\u001b[1;33m\u001b[0m\u001b[0m\n\u001b[0m",
      "\u001b[1;31mStopIteration\u001b[0m: "
     ]
    }
   ],
   "source": [
    "next(m)"
   ]
  },
  {
   "cell_type": "code",
   "execution_count": 20,
   "id": "70bfc412",
   "metadata": {},
   "outputs": [
    {
     "data": {
      "text/plain": [
       "[]"
      ]
     },
     "execution_count": 20,
     "metadata": {},
     "output_type": "execute_result"
    }
   ],
   "source": [
    "list(m)"
   ]
  },
  {
   "cell_type": "code",
   "execution_count": null,
   "id": "73c4b761",
   "metadata": {},
   "outputs": [],
   "source": []
  }
 ],
 "metadata": {
  "kernelspec": {
   "display_name": "Python 3 (ipykernel)",
   "language": "python",
   "name": "python3"
  },
  "language_info": {
   "codemirror_mode": {
    "name": "ipython",
    "version": 3
   },
   "file_extension": ".py",
   "mimetype": "text/x-python",
   "name": "python",
   "nbconvert_exporter": "python",
   "pygments_lexer": "ipython3",
   "version": "3.9.13"
  }
 },
 "nbformat": 4,
 "nbformat_minor": 5
}
