{
 "cells": [
  {
   "cell_type": "code",
   "execution_count": 1,
   "id": "d06091f2",
   "metadata": {},
   "outputs": [],
   "source": [
    "# class, exception handling, decorator"
   ]
  },
  {
   "cell_type": "code",
   "execution_count": 2,
   "id": "d0d83743",
   "metadata": {},
   "outputs": [],
   "source": [
    "# class -- property\n",
    "class Circle:\n",
    "    def __init__(self, radius):\n",
    "        self.radius = radius\n",
    "    \n",
    "    def area(self):\n",
    "        from math import pi\n",
    "        return pi * self.radius ** 2\n",
    "    "
   ]
  },
  {
   "cell_type": "code",
   "execution_count": 3,
   "id": "16c3c7f3",
   "metadata": {},
   "outputs": [],
   "source": [
    "c = Circle(10)"
   ]
  },
  {
   "cell_type": "code",
   "execution_count": 4,
   "id": "6e71eeed",
   "metadata": {},
   "outputs": [
    {
     "data": {
      "text/plain": [
       "314.1592653589793"
      ]
     },
     "execution_count": 4,
     "metadata": {},
     "output_type": "execute_result"
    }
   ],
   "source": [
    "c.area()"
   ]
  },
  {
   "cell_type": "code",
   "execution_count": 6,
   "id": "ef8204c5",
   "metadata": {},
   "outputs": [],
   "source": [
    "# bare attribute\n",
    "# anyone can modify these attributes in any way\n",
    "c.radius = 'abc'"
   ]
  },
  {
   "cell_type": "code",
   "execution_count": 7,
   "id": "8b244346",
   "metadata": {},
   "outputs": [
    {
     "data": {
      "text/plain": [
       "{'radius': 'abc'}"
      ]
     },
     "execution_count": 7,
     "metadata": {},
     "output_type": "execute_result"
    }
   ],
   "source": [
    "vars(c)"
   ]
  },
  {
   "cell_type": "code",
   "execution_count": 1,
   "id": "4681dc95",
   "metadata": {},
   "outputs": [],
   "source": [
    "class Circle:\n",
    "    def __init__(self, radius):\n",
    "        self.radius = radius\n",
    "        \n",
    "    # property -- getter and setter\n",
    "    # getter -- used to get an attribute\n",
    "    # setter -- used to set an attribute\n",
    "    # only getter -- read only property\n",
    "    @property\n",
    "    def area(self):\n",
    "        from math import pi\n",
    "        print('Called')\n",
    "        return pi * self.radius ** 2"
   ]
  },
  {
   "cell_type": "code",
   "execution_count": 2,
   "id": "951aeaad",
   "metadata": {},
   "outputs": [],
   "source": [
    "c = Circle(10)"
   ]
  },
  {
   "cell_type": "code",
   "execution_count": 3,
   "id": "b7b9fe31",
   "metadata": {},
   "outputs": [
    {
     "data": {
      "text/plain": [
       "10"
      ]
     },
     "execution_count": 3,
     "metadata": {},
     "output_type": "execute_result"
    }
   ],
   "source": [
    "c.radius"
   ]
  },
  {
   "cell_type": "code",
   "execution_count": 4,
   "id": "270f0efe",
   "metadata": {},
   "outputs": [
    {
     "name": "stdout",
     "output_type": "stream",
     "text": [
      "Called\n"
     ]
    },
    {
     "data": {
      "text/plain": [
       "314.1592653589793"
      ]
     },
     "execution_count": 4,
     "metadata": {},
     "output_type": "execute_result"
    }
   ],
   "source": [
    "c.area"
   ]
  },
  {
   "cell_type": "code",
   "execution_count": null,
   "id": "1028f102",
   "metadata": {},
   "outputs": [],
   "source": [
    "c.area = 10"
   ]
  },
  {
   "cell_type": "code",
   "execution_count": 17,
   "id": "6aa674ca",
   "metadata": {},
   "outputs": [],
   "source": [
    "class Circle:\n",
    "    def __init__(self,radius):\n",
    "        self._radius = radius\n",
    "    \n",
    "    @property\n",
    "    def rad(self):\n",
    "        return self._radius\n",
    "    \n",
    "    @rad.setter\n",
    "    def rad(self, value):\n",
    "        if not isinstance(value, int) and not isinstance(value,float):\n",
    "            raise ValueError(\"Please enter only numbers\")\n",
    "        else:\n",
    "            self._radius = value"
   ]
  },
  {
   "cell_type": "code",
   "execution_count": 18,
   "id": "63e53ed5",
   "metadata": {},
   "outputs": [],
   "source": [
    "c = Circle(10)"
   ]
  },
  {
   "cell_type": "code",
   "execution_count": 19,
   "id": "09a44737",
   "metadata": {},
   "outputs": [
    {
     "data": {
      "text/plain": [
       "10"
      ]
     },
     "execution_count": 19,
     "metadata": {},
     "output_type": "execute_result"
    }
   ],
   "source": [
    "# c.radius\n",
    "# c._radius # developer community\n",
    "c.rad"
   ]
  },
  {
   "cell_type": "code",
   "execution_count": 20,
   "id": "014e7806",
   "metadata": {},
   "outputs": [
    {
     "ename": "ValueError",
     "evalue": "Please enter only numbers",
     "output_type": "error",
     "traceback": [
      "\u001b[1;31m---------------------------------------------------------------------------\u001b[0m",
      "\u001b[1;31mValueError\u001b[0m                                Traceback (most recent call last)",
      "\u001b[1;32m~\\AppData\\Local\\Temp\\ipykernel_31208\\3746042827.py\u001b[0m in \u001b[0;36m<module>\u001b[1;34m\u001b[0m\n\u001b[1;32m----> 1\u001b[1;33m \u001b[0mc\u001b[0m\u001b[1;33m.\u001b[0m\u001b[0mrad\u001b[0m \u001b[1;33m=\u001b[0m \u001b[1;34m'Abhishek'\u001b[0m\u001b[1;33m\u001b[0m\u001b[1;33m\u001b[0m\u001b[0m\n\u001b[0m",
      "\u001b[1;32m~\\AppData\\Local\\Temp\\ipykernel_31208\\3770682309.py\u001b[0m in \u001b[0;36mrad\u001b[1;34m(self, value)\u001b[0m\n\u001b[0;32m     10\u001b[0m     \u001b[1;32mdef\u001b[0m \u001b[0mrad\u001b[0m\u001b[1;33m(\u001b[0m\u001b[0mself\u001b[0m\u001b[1;33m,\u001b[0m \u001b[0mvalue\u001b[0m\u001b[1;33m)\u001b[0m\u001b[1;33m:\u001b[0m\u001b[1;33m\u001b[0m\u001b[1;33m\u001b[0m\u001b[0m\n\u001b[0;32m     11\u001b[0m         \u001b[1;32mif\u001b[0m \u001b[1;32mnot\u001b[0m \u001b[0misinstance\u001b[0m\u001b[1;33m(\u001b[0m\u001b[0mvalue\u001b[0m\u001b[1;33m,\u001b[0m \u001b[0mint\u001b[0m\u001b[1;33m)\u001b[0m \u001b[1;32mand\u001b[0m \u001b[1;32mnot\u001b[0m \u001b[0misinstance\u001b[0m\u001b[1;33m(\u001b[0m\u001b[0mvalue\u001b[0m\u001b[1;33m,\u001b[0m\u001b[0mfloat\u001b[0m\u001b[1;33m)\u001b[0m\u001b[1;33m:\u001b[0m\u001b[1;33m\u001b[0m\u001b[1;33m\u001b[0m\u001b[0m\n\u001b[1;32m---> 12\u001b[1;33m             \u001b[1;32mraise\u001b[0m \u001b[0mValueError\u001b[0m\u001b[1;33m(\u001b[0m\u001b[1;34m\"Please enter only numbers\"\u001b[0m\u001b[1;33m)\u001b[0m\u001b[1;33m\u001b[0m\u001b[1;33m\u001b[0m\u001b[0m\n\u001b[0m\u001b[0;32m     13\u001b[0m         \u001b[1;32melse\u001b[0m\u001b[1;33m:\u001b[0m\u001b[1;33m\u001b[0m\u001b[1;33m\u001b[0m\u001b[0m\n\u001b[0;32m     14\u001b[0m             \u001b[0mself\u001b[0m\u001b[1;33m.\u001b[0m\u001b[0m_radius\u001b[0m \u001b[1;33m=\u001b[0m \u001b[0mvalue\u001b[0m\u001b[1;33m\u001b[0m\u001b[1;33m\u001b[0m\u001b[0m\n",
      "\u001b[1;31mValueError\u001b[0m: Please enter only numbers"
     ]
    }
   ],
   "source": [
    "c.rad = 'Abhishek'"
   ]
  },
  {
   "cell_type": "code",
   "execution_count": 16,
   "id": "633951d3",
   "metadata": {},
   "outputs": [
    {
     "data": {
      "text/plain": [
       "10"
      ]
     },
     "execution_count": 16,
     "metadata": {},
     "output_type": "execute_result"
    }
   ],
   "source": [
    "c.rad"
   ]
  },
  {
   "cell_type": "code",
   "execution_count": 21,
   "id": "d26f82f4",
   "metadata": {},
   "outputs": [],
   "source": [
    "# class methods and attributes\n"
   ]
  },
  {
   "cell_type": "code",
   "execution_count": 37,
   "id": "8229b6f2",
   "metadata": {},
   "outputs": [],
   "source": [
    "class Person:\n",
    "    # p1.no_of_persons # Person.no_of_persons\n",
    "    no_of_persons = 0\n",
    "    \n",
    "    def __init__(self, name, age):\n",
    "        self._name = name\n",
    "        self._age = age\n",
    "        Person.no_of_persons += 1\n",
    "    \n",
    "    @property\n",
    "    def name(self):\n",
    "        return self._name\n",
    "    \n",
    "    @property\n",
    "    def age(self):\n",
    "        return self._age\n",
    "    \n",
    "    @classmethod\n",
    "    def get_no_of_persons(cls):\n",
    "        return cls.no_of_persons\n",
    "    "
   ]
  },
  {
   "cell_type": "code",
   "execution_count": 38,
   "id": "af26e25f",
   "metadata": {},
   "outputs": [],
   "source": [
    "p1 = Person('Abhishek',23)"
   ]
  },
  {
   "cell_type": "code",
   "execution_count": 39,
   "id": "8e8f04a9",
   "metadata": {},
   "outputs": [],
   "source": [
    "p2 = Person(\"Abhilash\", 36)"
   ]
  },
  {
   "cell_type": "code",
   "execution_count": 40,
   "id": "f5728170",
   "metadata": {},
   "outputs": [
    {
     "data": {
      "text/plain": [
       "(2, 2)"
      ]
     },
     "execution_count": 40,
     "metadata": {},
     "output_type": "execute_result"
    }
   ],
   "source": [
    "p1.no_of_persons, p2.no_of_persons"
   ]
  },
  {
   "cell_type": "code",
   "execution_count": 41,
   "id": "f5a9be6c",
   "metadata": {},
   "outputs": [
    {
     "data": {
      "text/plain": [
       "(1804099283280, 1804099283280, 1804099283280)"
      ]
     },
     "execution_count": 41,
     "metadata": {},
     "output_type": "execute_result"
    }
   ],
   "source": [
    "id(p1.no_of_persons), id(p2.no_of_persons), id(Person.no_of_persons)"
   ]
  },
  {
   "cell_type": "code",
   "execution_count": 43,
   "id": "7c589dd2",
   "metadata": {},
   "outputs": [
    {
     "data": {
      "text/plain": [
       "(2, 2)"
      ]
     },
     "execution_count": 43,
     "metadata": {},
     "output_type": "execute_result"
    }
   ],
   "source": [
    "Person.get_no_of_persons(), p1.get_no_of_persons()"
   ]
  },
  {
   "cell_type": "markdown",
   "id": "08635e89",
   "metadata": {},
   "source": [
    "# decorator"
   ]
  },
  {
   "cell_type": "code",
   "execution_count": 45,
   "id": "a5000797",
   "metadata": {},
   "outputs": [],
   "source": [
    "def add(x, y):\n",
    "    return x + y"
   ]
  },
  {
   "cell_type": "code",
   "execution_count": 48,
   "id": "2ba82fd4",
   "metadata": {},
   "outputs": [
    {
     "name": "stdout",
     "output_type": "stream",
     "text": [
      "5\n",
      "elapsed time : 0.00012919999994664977\n"
     ]
    }
   ],
   "source": [
    "from time import perf_counter\n",
    "start = perf_counter()\n",
    "print(add(2,3))\n",
    "end = perf_counter()\n",
    "print(f\"elapsed time : {end - start}\")\n",
    "\n",
    "# add(2,3)"
   ]
  },
  {
   "cell_type": "code",
   "execution_count": 54,
   "id": "63859989",
   "metadata": {},
   "outputs": [],
   "source": [
    "def decorator(func):\n",
    "    # def wrapper(*args, **kwargs): -- args==tuple, kwargs == dict\n",
    "    def wrapper(x,y):\n",
    "        from time import perf_counter\n",
    "        start = perf_counter()\n",
    "        result = func(x,y)\n",
    "        end = perf_counter()\n",
    "        print(f\"elapsed time : {end -  start}\")\n",
    "        return result\n",
    "    return wrapper\n",
    "\n",
    "@outer\n",
    "def add(x, y):\n",
    "    return x + y\n",
    "\n",
    "\n",
    "# decorated function means that the function has been wrapped by the decorator\n",
    "# # new_add is the decorated version of add\n",
    "# add = outer(add)\n"
   ]
  },
  {
   "cell_type": "code",
   "execution_count": 55,
   "id": "4c21bc3e",
   "metadata": {},
   "outputs": [
    {
     "name": "stdout",
     "output_type": "stream",
     "text": [
      "elapsed time : 4.99999714520527e-07\n"
     ]
    },
    {
     "data": {
      "text/plain": [
       "5"
      ]
     },
     "execution_count": 55,
     "metadata": {},
     "output_type": "execute_result"
    }
   ],
   "source": [
    "add(2,3)"
   ]
  },
  {
   "cell_type": "code",
   "execution_count": 51,
   "id": "8a788b51",
   "metadata": {},
   "outputs": [
    {
     "name": "stdout",
     "output_type": "stream",
     "text": [
      "elapsed time : 7.000001005508238e-07\n"
     ]
    },
    {
     "data": {
      "text/plain": [
       "5"
      ]
     },
     "execution_count": 51,
     "metadata": {},
     "output_type": "execute_result"
    }
   ],
   "source": [
    "# decorated version of add\n",
    "new_add(2,3)"
   ]
  },
  {
   "cell_type": "code",
   "execution_count": 56,
   "id": "3f035f1f",
   "metadata": {},
   "outputs": [],
   "source": [
    "# add(2,3) == 5\n",
    "# double_return \n",
    "# @double_return == [5,5]\n",
    "\n",
    "# func(*args, *kwargs) -- general function"
   ]
  },
  {
   "cell_type": "code",
   "execution_count": 57,
   "id": "3405aba2",
   "metadata": {},
   "outputs": [],
   "source": [
    "def add(*args, **kwargs):\n",
    "    print(f\"args : {args} {type(args)}\")\n",
    "    print(f\"kwargs : {kwargs}{type(kwargs)}\")"
   ]
  },
  {
   "cell_type": "code",
   "execution_count": 58,
   "id": "0a0bcf42",
   "metadata": {},
   "outputs": [
    {
     "name": "stdout",
     "output_type": "stream",
     "text": [
      "args : (1, 2, 3, 4, -2319, 2, 233) <class 'tuple'>\n",
      "kwargs : {'a': 90, 'b': 'Abhilash', 'abhishek': 'Abhishek'}<class 'dict'>\n"
     ]
    }
   ],
   "source": [
    "add(1,2,3,4,4-2323,2,233,a=90,b=\"Abhilash\", abhishek = 'Abhishek')"
   ]
  },
  {
   "cell_type": "markdown",
   "id": "9560de88",
   "metadata": {},
   "source": [
    "# DOUBLE RETURN DECORATOR"
   ]
  },
  {
   "cell_type": "code",
   "execution_count": 59,
   "id": "7ed145bb",
   "metadata": {},
   "outputs": [],
   "source": [
    "def double_return(func):\n",
    "    # def wrapper(x,y):\n",
    "    def wrapper(*args, **kwargs):\n",
    "        result = func(*args, **kwargs)\n",
    "        return [result] * 2\n",
    "    return wrapper\n",
    "\n",
    "def add(x,y):\n",
    "    return x + y "
   ]
  },
  {
   "cell_type": "code",
   "execution_count": 60,
   "id": "46d1fea7",
   "metadata": {},
   "outputs": [
    {
     "data": {
      "text/plain": [
       "5"
      ]
     },
     "execution_count": 60,
     "metadata": {},
     "output_type": "execute_result"
    }
   ],
   "source": [
    "add(2,3)"
   ]
  },
  {
   "cell_type": "code",
   "execution_count": 61,
   "id": "4ef1cc02",
   "metadata": {},
   "outputs": [],
   "source": [
    "@double_return\n",
    "def add(x,y):\n",
    "    return x + y"
   ]
  },
  {
   "cell_type": "code",
   "execution_count": 62,
   "id": "857c0fcf",
   "metadata": {},
   "outputs": [
    {
     "data": {
      "text/plain": [
       "[5, 5]"
      ]
     },
     "execution_count": 62,
     "metadata": {},
     "output_type": "execute_result"
    }
   ],
   "source": [
    "add(2,3)"
   ]
  },
  {
   "cell_type": "code",
   "execution_count": 63,
   "id": "dc3d7360",
   "metadata": {},
   "outputs": [],
   "source": [
    "def greet(name):\n",
    "    return f\"Hi, My name is {name}\""
   ]
  },
  {
   "cell_type": "code",
   "execution_count": 64,
   "id": "b6d6646e",
   "metadata": {},
   "outputs": [
    {
     "data": {
      "text/plain": [
       "'Hi, My name is Abhilash'"
      ]
     },
     "execution_count": 64,
     "metadata": {},
     "output_type": "execute_result"
    }
   ],
   "source": [
    "greet(\"Abhilash\")"
   ]
  },
  {
   "cell_type": "code",
   "execution_count": 65,
   "id": "86950830",
   "metadata": {},
   "outputs": [],
   "source": [
    "@double_return\n",
    "def greet(name):\n",
    "    return f\"Hi, My name is {name}\""
   ]
  },
  {
   "cell_type": "code",
   "execution_count": 66,
   "id": "ac2e7e65",
   "metadata": {},
   "outputs": [
    {
     "data": {
      "text/plain": [
       "['Hi, My name is Abhilash', 'Hi, My name is Abhilash']"
      ]
     },
     "execution_count": 66,
     "metadata": {},
     "output_type": "execute_result"
    }
   ],
   "source": [
    "greet(\"Abhilash\")"
   ]
  },
  {
   "cell_type": "code",
   "execution_count": null,
   "id": "09fe1fa1",
   "metadata": {},
   "outputs": [],
   "source": []
  }
 ],
 "metadata": {
  "kernelspec": {
   "display_name": "Python 3 (ipykernel)",
   "language": "python",
   "name": "python3"
  },
  "language_info": {
   "codemirror_mode": {
    "name": "ipython",
    "version": 3
   },
   "file_extension": ".py",
   "mimetype": "text/x-python",
   "name": "python",
   "nbconvert_exporter": "python",
   "pygments_lexer": "ipython3",
   "version": "3.9.13"
  }
 },
 "nbformat": 4,
 "nbformat_minor": 5
}
