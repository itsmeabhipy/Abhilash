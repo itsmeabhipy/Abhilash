{
 "cells": [
  {
   "cell_type": "code",
   "execution_count": 1,
   "id": "b0cfdea9",
   "metadata": {},
   "outputs": [],
   "source": [
    "# generators, map, filter, higher order functions and closures"
   ]
  },
  {
   "cell_type": "markdown",
   "id": "08f7501b",
   "metadata": {},
   "source": [
    "# Generator"
   ]
  },
  {
   "cell_type": "markdown",
   "id": "4e926ced",
   "metadata": {},
   "source": [
    "#### Till now, we have list, set and dictionary comprehension"
   ]
  },
  {
   "cell_type": "code",
   "execution_count": 2,
   "id": "1a5032a3",
   "metadata": {},
   "outputs": [],
   "source": [
    "l = [1,2,3,4,5]"
   ]
  },
  {
   "cell_type": "code",
   "execution_count": 3,
   "id": "9215b41a",
   "metadata": {},
   "outputs": [],
   "source": [
    "# we want to create a new list [1,4,9,16,25]"
   ]
  },
  {
   "cell_type": "code",
   "execution_count": 4,
   "id": "49597630",
   "metadata": {},
   "outputs": [],
   "source": [
    "l2 = [ele ** 2 for ele in l]"
   ]
  },
  {
   "cell_type": "code",
   "execution_count": 7,
   "id": "742cdc90",
   "metadata": {},
   "outputs": [],
   "source": [
    "square = lambda x : x ** 2\n",
    "l3 = [square(ele) for ele in l]"
   ]
  },
  {
   "cell_type": "code",
   "execution_count": 8,
   "id": "ae0f8f11",
   "metadata": {},
   "outputs": [
    {
     "data": {
      "text/plain": [
       "[1, 4, 9, 16, 25]"
      ]
     },
     "execution_count": 8,
     "metadata": {},
     "output_type": "execute_result"
    }
   ],
   "source": [
    "l3"
   ]
  },
  {
   "cell_type": "code",
   "execution_count": 9,
   "id": "5ca87903",
   "metadata": {},
   "outputs": [
    {
     "data": {
      "text/plain": [
       "[1, 4, 9, 16, 25]"
      ]
     },
     "execution_count": 9,
     "metadata": {},
     "output_type": "execute_result"
    }
   ],
   "source": [
    "l2"
   ]
  },
  {
   "cell_type": "code",
   "execution_count": 10,
   "id": "4e97ef7b",
   "metadata": {},
   "outputs": [],
   "source": [
    "# In both of these approches, physical space is being used"
   ]
  },
  {
   "cell_type": "code",
   "execution_count": 11,
   "id": "210f1435",
   "metadata": {},
   "outputs": [
    {
     "data": {
      "text/plain": [
       "<generator object <genexpr> at 0x000001DF2A1C2C80>"
      ]
     },
     "execution_count": 11,
     "metadata": {},
     "output_type": "execute_result"
    }
   ],
   "source": [
    "# Tuple comprehension -- NO SUCH THING \n",
    "# Generators\n",
    "\n",
    "# tuple comprehension -- Generator\n",
    "l2 = (ele ** 2 for ele in l)\n",
    "\n",
    "# It returns an iterator\n",
    "l2 # one time object"
   ]
  },
  {
   "cell_type": "code",
   "execution_count": 12,
   "id": "ad3a0798",
   "metadata": {},
   "outputs": [
    {
     "data": {
      "text/plain": [
       "[1, 2, 3, 4, 5]"
      ]
     },
     "execution_count": 12,
     "metadata": {},
     "output_type": "execute_result"
    }
   ],
   "source": [
    "l"
   ]
  },
  {
   "cell_type": "code",
   "execution_count": 18,
   "id": "1fc316a2",
   "metadata": {},
   "outputs": [
    {
     "ename": "StopIteration",
     "evalue": "",
     "output_type": "error",
     "traceback": [
      "\u001b[1;31m---------------------------------------------------------------------------\u001b[0m",
      "\u001b[1;31mStopIteration\u001b[0m                             Traceback (most recent call last)",
      "\u001b[1;32m~\\AppData\\Local\\Temp\\ipykernel_9508\\2556718714.py\u001b[0m in \u001b[0;36m<module>\u001b[1;34m\u001b[0m\n\u001b[1;32m----> 1\u001b[1;33m \u001b[0ml2\u001b[0m\u001b[1;33m.\u001b[0m\u001b[0m__next__\u001b[0m\u001b[1;33m(\u001b[0m\u001b[1;33m)\u001b[0m \u001b[1;31m# next(l2)\u001b[0m\u001b[1;33m\u001b[0m\u001b[1;33m\u001b[0m\u001b[0m\n\u001b[0m",
      "\u001b[1;31mStopIteration\u001b[0m: "
     ]
    }
   ],
   "source": [
    "l2.__next__() # next(l2)"
   ]
  },
  {
   "cell_type": "code",
   "execution_count": 19,
   "id": "2dea8d10",
   "metadata": {},
   "outputs": [
    {
     "data": {
      "text/plain": [
       "[2, 3, 4, 5, 3467643, 2379, 2]"
      ]
     },
     "execution_count": 19,
     "metadata": {},
     "output_type": "execute_result"
    }
   ],
   "source": [
    "# l = (-2,-3,-4,-5,-3467643,-2379)\n",
    "l = [-2,-3,-4,-5,-3467643,-2379, 2]\n",
    "\n",
    "# generator\n",
    "\n",
    "ans = (abs(ele) for ele in l)\n",
    "list(ans)"
   ]
  },
  {
   "cell_type": "code",
   "execution_count": 20,
   "id": "17bcec0b",
   "metadata": {},
   "outputs": [],
   "source": [
    "# map function \n",
    "# it takes a function and an iterable.\n",
    "# it returns an iterator.\n",
    "# It applies the function on each value of iterable.\n",
    "\n",
    "my_absolute = lambda x : -x if x < 0 else x\n",
    "ans = map(my_absolute, l)"
   ]
  },
  {
   "cell_type": "code",
   "execution_count": 21,
   "id": "c71e64c5",
   "metadata": {},
   "outputs": [
    {
     "data": {
      "text/plain": [
       "[2, 3, 4, 5, 3467643, 2379, 2]"
      ]
     },
     "execution_count": 21,
     "metadata": {},
     "output_type": "execute_result"
    }
   ],
   "source": [
    "list(ans)"
   ]
  },
  {
   "cell_type": "code",
   "execution_count": 22,
   "id": "921fa7bb",
   "metadata": {},
   "outputs": [],
   "source": [
    "# map(func, iterable) = (func(ele) for ele in iterable)"
   ]
  },
  {
   "cell_type": "code",
   "execution_count": 23,
   "id": "c98315cb",
   "metadata": {},
   "outputs": [
    {
     "data": {
      "text/plain": [
       "[6, 2, 1, 11, 5, 8]"
      ]
     },
     "execution_count": 23,
     "metadata": {},
     "output_type": "execute_result"
    }
   ],
   "source": [
    "words = [\"Python\", \"is\", \"a\", \"dynamically\", \"typed\", \"language\"]\n",
    "\n",
    "# I want a list which has length of each of the word of words\n",
    "# using map() function\n",
    "\n",
    "# Approach 1 -- without lambda\n",
    "def my_len(word):\n",
    "    return len(word)\n",
    "\n",
    "ans1 = map(my_len, words)\n",
    "list(ans1)"
   ]
  },
  {
   "cell_type": "code",
   "execution_count": 24,
   "id": "dd25d10c",
   "metadata": {},
   "outputs": [
    {
     "data": {
      "text/plain": [
       "[6, 2, 1, 11, 5, 8]"
      ]
     },
     "execution_count": 24,
     "metadata": {},
     "output_type": "execute_result"
    }
   ],
   "source": [
    "# Approach 2 -- with lambda\n",
    "\n",
    "my_len = lambda word:len(word)\n",
    "\n",
    "ans2 = map(my_len, words)\n",
    "list(ans2)"
   ]
  },
  {
   "cell_type": "code",
   "execution_count": 25,
   "id": "d1ee59c0",
   "metadata": {},
   "outputs": [
    {
     "data": {
      "text/plain": [
       "[6, 2, 1, 11, 5, 8]"
      ]
     },
     "execution_count": 25,
     "metadata": {},
     "output_type": "execute_result"
    }
   ],
   "source": [
    "# Approach 3 -- directly pass the name of python function\n",
    "\n",
    "ans3 = map(len, words)\n",
    "list(ans3)"
   ]
  },
  {
   "cell_type": "markdown",
   "id": "fa7d7774",
   "metadata": {},
   "source": [
    "# Filter()"
   ]
  },
  {
   "cell_type": "code",
   "execution_count": 26,
   "id": "6e852ec2",
   "metadata": {},
   "outputs": [],
   "source": [
    "# it takes a func and an iterable.\n",
    "# It returns an iterator.\n",
    "\n",
    "# filter(predicate_function, iterable)\n",
    "# predicate_function means boolean function\n",
    "# jb jb True milega sirf whi values return hongi iterable se\n",
    "\n",
    "numbers = [ele for ele in range(10)]"
   ]
  },
  {
   "cell_type": "code",
   "execution_count": 27,
   "id": "e37866a2",
   "metadata": {},
   "outputs": [],
   "source": [
    "# we want only even values of numbers\n",
    "evens = filter(lambda x : x % 2 == 0, numbers)"
   ]
  },
  {
   "cell_type": "code",
   "execution_count": 28,
   "id": "4c65bb5d",
   "metadata": {},
   "outputs": [
    {
     "data": {
      "text/plain": [
       "[0, 2, 4, 6, 8]"
      ]
     },
     "execution_count": 28,
     "metadata": {},
     "output_type": "execute_result"
    }
   ],
   "source": [
    "list(evens)"
   ]
  },
  {
   "cell_type": "code",
   "execution_count": 29,
   "id": "7d8b56bf",
   "metadata": {},
   "outputs": [
    {
     "data": {
      "text/plain": [
       "{'Python', 'dynamically', 'language', 'typed'}"
      ]
     },
     "execution_count": 29,
     "metadata": {},
     "output_type": "execute_result"
    }
   ],
   "source": [
    "words = [\"Python\", \"is\", \"a\", \"dynamically\", \"typed\", \"language\"]\n",
    "# I want only those words whose len is atleast 5\n",
    "ans = filter(lambda word : len(word) > 4, words)\n",
    "set(ans)"
   ]
  },
  {
   "cell_type": "code",
   "execution_count": 30,
   "id": "27a06e31",
   "metadata": {},
   "outputs": [],
   "source": [
    "l = [ele for ele in range(10)]"
   ]
  },
  {
   "cell_type": "code",
   "execution_count": 31,
   "id": "b8865b58",
   "metadata": {},
   "outputs": [
    {
     "data": {
      "text/plain": [
       "[0, 1, 2, 3, 4, 5, 6, 7, 8, 9]"
      ]
     },
     "execution_count": 31,
     "metadata": {},
     "output_type": "execute_result"
    }
   ],
   "source": [
    "l"
   ]
  },
  {
   "cell_type": "code",
   "execution_count": 32,
   "id": "62152ef2",
   "metadata": {},
   "outputs": [
    {
     "data": {
      "text/plain": [
       "[0, 1, 4, 9, 16, 25, 36, 49, 64, 81]"
      ]
     },
     "execution_count": 32,
     "metadata": {},
     "output_type": "execute_result"
    }
   ],
   "source": [
    "# create a list [0,1, ,9 ... ]\n",
    "ans = []\n",
    "for i in l:\n",
    "    ans.append(i ** 2)\n",
    "    \n",
    "ans"
   ]
  },
  {
   "cell_type": "code",
   "execution_count": 33,
   "id": "81584b01",
   "metadata": {},
   "outputs": [],
   "source": [
    "# comprehension -- iterable se iterable\n",
    "# list, tuple, string, dict, set, range\n",
    "# iterators bhi iterable \n",
    "# iterators are special kind of  iterable\n",
    "# iterable -- anything which can be iterated upon\n",
    "# list, tuple, string, dict, set, range\n",
    "# iterable-- mutable and immutable\n",
    "\n",
    "# mutable -- which can be changed\n",
    "# immutable --which is not mutable -- which cannot be changed\n",
    "l = [1,2,3,4]"
   ]
  },
  {
   "cell_type": "code",
   "execution_count": 34,
   "id": "93ff7b30",
   "metadata": {},
   "outputs": [],
   "source": [
    "l[3] = True"
   ]
  },
  {
   "cell_type": "code",
   "execution_count": 35,
   "id": "6272c37f",
   "metadata": {},
   "outputs": [
    {
     "data": {
      "text/plain": [
       "[1, 2, 3, True]"
      ]
     },
     "execution_count": 35,
     "metadata": {},
     "output_type": "execute_result"
    }
   ],
   "source": [
    "l # mutable object in Python"
   ]
  },
  {
   "cell_type": "code",
   "execution_count": 36,
   "id": "8becb781",
   "metadata": {},
   "outputs": [],
   "source": [
    "t = (1,2,3,4)\n"
   ]
  },
  {
   "cell_type": "code",
   "execution_count": 37,
   "id": "a9d916d5",
   "metadata": {},
   "outputs": [
    {
     "ename": "TypeError",
     "evalue": "'tuple' object does not support item assignment",
     "output_type": "error",
     "traceback": [
      "\u001b[1;31m---------------------------------------------------------------------------\u001b[0m",
      "\u001b[1;31mTypeError\u001b[0m                                 Traceback (most recent call last)",
      "\u001b[1;32m~\\AppData\\Local\\Temp\\ipykernel_9508\\2303708083.py\u001b[0m in \u001b[0;36m<module>\u001b[1;34m\u001b[0m\n\u001b[1;32m----> 1\u001b[1;33m \u001b[0mt\u001b[0m\u001b[1;33m[\u001b[0m\u001b[1;36m3\u001b[0m\u001b[1;33m]\u001b[0m \u001b[1;33m=\u001b[0m \u001b[1;32mTrue\u001b[0m\u001b[1;33m\u001b[0m\u001b[1;33m\u001b[0m\u001b[0m\n\u001b[0m",
      "\u001b[1;31mTypeError\u001b[0m: 'tuple' object does not support item assignment"
     ]
    }
   ],
   "source": [
    "t[3] = True # tuples are immutable"
   ]
  },
  {
   "cell_type": "code",
   "execution_count": 38,
   "id": "99fee60b",
   "metadata": {},
   "outputs": [],
   "source": [
    "# strings are also immutable\n",
    "s = \"Abhishek\""
   ]
  },
  {
   "cell_type": "code",
   "execution_count": 40,
   "id": "f1b8868f",
   "metadata": {},
   "outputs": [
    {
     "ename": "TypeError",
     "evalue": "'str' object does not support item assignment",
     "output_type": "error",
     "traceback": [
      "\u001b[1;31m---------------------------------------------------------------------------\u001b[0m",
      "\u001b[1;31mTypeError\u001b[0m                                 Traceback (most recent call last)",
      "\u001b[1;32m~\\AppData\\Local\\Temp\\ipykernel_9508\\1042448446.py\u001b[0m in \u001b[0;36m<module>\u001b[1;34m\u001b[0m\n\u001b[1;32m----> 1\u001b[1;33m \u001b[0ms\u001b[0m\u001b[1;33m[\u001b[0m\u001b[1;36m3\u001b[0m\u001b[1;33m]\u001b[0m \u001b[1;33m=\u001b[0m \u001b[1;34m'j'\u001b[0m\u001b[1;33m\u001b[0m\u001b[1;33m\u001b[0m\u001b[0m\n\u001b[0m",
      "\u001b[1;31mTypeError\u001b[0m: 'str' object does not support item assignment"
     ]
    }
   ],
   "source": [
    "s[3] = 'j'\n"
   ]
  },
  {
   "cell_type": "code",
   "execution_count": 41,
   "id": "c435a152",
   "metadata": {},
   "outputs": [],
   "source": [
    "# dict and set are mutable\n",
    "s = {1,2,3}"
   ]
  },
  {
   "cell_type": "code",
   "execution_count": 42,
   "id": "6907caab",
   "metadata": {},
   "outputs": [
    {
     "data": {
      "text/plain": [
       "{1, 2, 3}"
      ]
     },
     "execution_count": 42,
     "metadata": {},
     "output_type": "execute_result"
    }
   ],
   "source": [
    "s"
   ]
  },
  {
   "cell_type": "code",
   "execution_count": 45,
   "id": "9917bf6c",
   "metadata": {},
   "outputs": [],
   "source": [
    "s.add(4)"
   ]
  },
  {
   "cell_type": "code",
   "execution_count": 46,
   "id": "7fcb99d8",
   "metadata": {},
   "outputs": [
    {
     "data": {
      "text/plain": [
       "{1, 2, 3, 4}"
      ]
     },
     "execution_count": 46,
     "metadata": {},
     "output_type": "execute_result"
    }
   ],
   "source": [
    "s"
   ]
  },
  {
   "cell_type": "code",
   "execution_count": 49,
   "id": "2430314d",
   "metadata": {},
   "outputs": [],
   "source": [
    "# sets are also mutable objects\n",
    "# Everything is an object in Python\n",
    "# comprehensions are a way of gen iterables from iterables\n",
    "# list, set, dict\n",
    "# tuple -- generators\n",
    "# string comprehension XXXX\n",
    "\n",
    "# create a list [0,1, ,9 ... ]\n",
    "# non - pythonic way\n",
    "ans = []\n",
    "for i in l:\n",
    "    ans.append(i ** 2)\n",
    "    \n",
    "ans\n",
    "\n",
    "\n",
    "l = [1,2,3,4]\n",
    "ans = [element ** 2 for element in l]"
   ]
  },
  {
   "cell_type": "code",
   "execution_count": 50,
   "id": "6f8484c2",
   "metadata": {},
   "outputs": [
    {
     "data": {
      "text/plain": [
       "[1, 4, 9, 16]"
      ]
     },
     "execution_count": 50,
     "metadata": {},
     "output_type": "execute_result"
    }
   ],
   "source": [
    "ans"
   ]
  },
  {
   "cell_type": "code",
   "execution_count": 51,
   "id": "8a7cab35",
   "metadata": {},
   "outputs": [
    {
     "data": {
      "text/plain": [
       "[6, 2, 1, 11, 5, 8]"
      ]
     },
     "execution_count": 51,
     "metadata": {},
     "output_type": "execute_result"
    }
   ],
   "source": [
    "words = [\"Python\", \"is\", \"a\", \"dynamically\", \"typed\", \"language\"]\n",
    "\n",
    "# non - pythonic way \n",
    "ans = []\n",
    "\n",
    "for word in words:\n",
    "    ans.append(len(word))\n",
    "    \n",
    "ans"
   ]
  },
  {
   "cell_type": "code",
   "execution_count": 52,
   "id": "df162e94",
   "metadata": {},
   "outputs": [
    {
     "data": {
      "text/plain": [
       "[6, 2, 1, 11, 5, 8]"
      ]
     },
     "execution_count": 52,
     "metadata": {},
     "output_type": "execute_result"
    }
   ],
   "source": [
    "# Pythonic way\n",
    "# comprehension\n",
    "# list\n",
    "# list comprehension\n",
    "ans = [len(word) for word in words]\n",
    "ans"
   ]
  },
  {
   "cell_type": "code",
   "execution_count": 53,
   "id": "e6c49b22",
   "metadata": {},
   "outputs": [],
   "source": [
    "import antigravity"
   ]
  },
  {
   "cell_type": "code",
   "execution_count": 54,
   "id": "f9f18844",
   "metadata": {},
   "outputs": [
    {
     "ename": "SyntaxError",
     "evalue": "not a chance (3905450354.py, line 1)",
     "output_type": "error",
     "traceback": [
      "\u001b[1;36m  File \u001b[1;32m\"C:\\Users\\HU496FA\\AppData\\Local\\Temp\\ipykernel_9508\\3905450354.py\"\u001b[1;36m, line \u001b[1;32m1\u001b[0m\n\u001b[1;33m    from __future__ import braces\u001b[0m\n\u001b[1;37m    ^\u001b[0m\n\u001b[1;31mSyntaxError\u001b[0m\u001b[1;31m:\u001b[0m not a chance\n"
     ]
    }
   ],
   "source": [
    "from __future__ import braces"
   ]
  },
  {
   "cell_type": "code",
   "execution_count": 55,
   "id": "5e0a4989",
   "metadata": {},
   "outputs": [
    {
     "name": "stdout",
     "output_type": "stream",
     "text": [
      "Hello world!\n"
     ]
    }
   ],
   "source": [
    "import __hello__"
   ]
  },
  {
   "cell_type": "code",
   "execution_count": null,
   "id": "70aa532f",
   "metadata": {},
   "outputs": [],
   "source": []
  }
 ],
 "metadata": {
  "kernelspec": {
   "display_name": "Python 3 (ipykernel)",
   "language": "python",
   "name": "python3"
  },
  "language_info": {
   "codemirror_mode": {
    "name": "ipython",
    "version": 3
   },
   "file_extension": ".py",
   "mimetype": "text/x-python",
   "name": "python",
   "nbconvert_exporter": "python",
   "pygments_lexer": "ipython3",
   "version": "3.9.13"
  }
 },
 "nbformat": 4,
 "nbformat_minor": 5
}
