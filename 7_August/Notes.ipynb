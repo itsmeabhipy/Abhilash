{
 "cells": [
  {
   "cell_type": "code",
   "execution_count": 2,
   "id": "7d2778fc",
   "metadata": {},
   "outputs": [],
   "source": [
    "# Iterable and Iterator\n",
    "# Iterables are anything which can be iterated upon. For example : list, tuple, string, set, dictionary, range object\n",
    "# Iterators are special kind of python objects which know how to iterate over an iterable.\n",
    "# We use iterators to iterate over an iterable. Any iterable by itself does not know how to\n",
    "# iterate over it.\n",
    "\n",
    "# Iterators are themselves iterables.\n",
    "# iter(iterable) === iterable.__iter__()\n",
    "# next(iterator) === iterator.__next__()\n",
    "# Iterators are special kind of iterables == they can be iterated only once.\n",
    "# Every iterable class implements __iter__() method but does not implement __next__() method\n",
    "# Every iterator class implements __iter__() method as well as __next__() method\n",
    "\n",
    "# Custom class == user defined class. If you want your custom object to be iterable \n",
    "# Then you will have to implement __iter__()[\"dunder iter\"] method in it."
   ]
  },
  {
   "cell_type": "code",
   "execution_count": 3,
   "id": "e5e38d8c",
   "metadata": {},
   "outputs": [],
   "source": [
    "# diff between generator and iterators\n",
    "# Iterators is a generalized concept and generators are just another iterator.\n",
    "# diff between list and container type"
   ]
  },
  {
   "cell_type": "code",
   "execution_count": 9,
   "id": "1d65c39f",
   "metadata": {},
   "outputs": [
    {
     "data": {
      "text/plain": [
       "True"
      ]
     },
     "execution_count": 9,
     "metadata": {},
     "output_type": "execute_result"
    }
   ],
   "source": [
    "l = [1,2,4,5]\n",
    "l_sorted = sorted(l)\n",
    "all([True if l[i] == l_sorted[i] else False for i in range(len(l))])"
   ]
  },
  {
   "cell_type": "code",
   "execution_count": 16,
   "id": "015271a9",
   "metadata": {},
   "outputs": [
    {
     "data": {
      "text/plain": [
       "(['A', 'b', 'e', 'h', 'h', 'i', 'k', 's'], 'Abhishek', 98)"
      ]
     },
     "execution_count": 16,
     "metadata": {},
     "output_type": "execute_result"
    }
   ],
   "source": [
    "# sorted(iterable) == sorted version of that iterator\n",
    "# min, max\n",
    "\n",
    "# It take mutable and immutable\n",
    "# sorted() it will always be a list\n",
    "# It returns a sorted list of elements of that iterable\n",
    "\n",
    "l = [5,4,3,2,1]\n",
    "t = (5,4,3,2,1)\n",
    "s = {5,4,3,2,1}\n",
    "name = \"Abhishek\"\n",
    "sorted(name), name, ord('b')"
   ]
  },
  {
   "cell_type": "code",
   "execution_count": 17,
   "id": "ca1e4ca8",
   "metadata": {},
   "outputs": [
    {
     "data": {
      "text/plain": [
       "[5, 4, 3, 2, 1]"
      ]
     },
     "execution_count": 17,
     "metadata": {},
     "output_type": "execute_result"
    }
   ],
   "source": [
    "# We can also pass a keyword-only argument reverse in sorted as well\n",
    "l = [1,2,5,4,3]\n",
    "t = (1,2,5,4,3)\n",
    "s = {1,2,5,4,3}\n",
    "name = \"Abhishek\"\n",
    "\n",
    "# By default reverse = False\n",
    "sorted(l, reverse=True)"
   ]
  },
  {
   "cell_type": "code",
   "execution_count": 20,
   "id": "ae552a5b",
   "metadata": {},
   "outputs": [
    {
     "data": {
      "text/plain": [
       "([], dict)"
      ]
     },
     "execution_count": 20,
     "metadata": {},
     "output_type": "execute_result"
    }
   ],
   "source": [
    "# We can also pass empty iterable in sorted()\n",
    "sorted(set()), type({})"
   ]
  },
  {
   "cell_type": "code",
   "execution_count": 23,
   "id": "c10f36e0",
   "metadata": {},
   "outputs": [
    {
     "data": {
      "text/plain": [
       "(1, 4567, -9)"
      ]
     },
     "execution_count": 23,
     "metadata": {},
     "output_type": "execute_result"
    }
   ],
   "source": [
    "# min, max --  iterable min, max return\n",
    "min([1,2,3,4,5]), max({-90,-78,-5678,89,4567}), min((1,2,3,-9))"
   ]
  },
  {
   "cell_type": "code",
   "execution_count": 24,
   "id": "6755fa6c",
   "metadata": {},
   "outputs": [
    {
     "ename": "ValueError",
     "evalue": "min() arg is an empty sequence",
     "output_type": "error",
     "traceback": [
      "\u001b[1;31m---------------------------------------------------------------------------\u001b[0m",
      "\u001b[1;31mValueError\u001b[0m                                Traceback (most recent call last)",
      "\u001b[1;32m~\\AppData\\Local\\Temp\\ipykernel_10184\\2071517778.py\u001b[0m in \u001b[0;36m<module>\u001b[1;34m\u001b[0m\n\u001b[0;32m      1\u001b[0m \u001b[1;31m# min, max  --  we cannot pass empty iterable\u001b[0m\u001b[1;33m\u001b[0m\u001b[1;33m\u001b[0m\u001b[0m\n\u001b[1;32m----> 2\u001b[1;33m \u001b[0mmin\u001b[0m\u001b[1;33m(\u001b[0m\u001b[1;33m[\u001b[0m\u001b[1;33m]\u001b[0m\u001b[1;33m)\u001b[0m\u001b[1;33m\u001b[0m\u001b[1;33m\u001b[0m\u001b[0m\n\u001b[0m",
      "\u001b[1;31mValueError\u001b[0m: min() arg is an empty sequence"
     ]
    }
   ],
   "source": [
    "# min, max  --  we cannot pass empty iterable\n",
    "min([])"
   ]
  },
  {
   "cell_type": "code",
   "execution_count": 25,
   "id": "27825f9d",
   "metadata": {},
   "outputs": [
    {
     "data": {
      "text/plain": [
       "-1"
      ]
     },
     "execution_count": 25,
     "metadata": {},
     "output_type": "execute_result"
    }
   ],
   "source": [
    "# To get no error we use keyword-only argument default\n",
    "min([], default=-1)"
   ]
  },
  {
   "cell_type": "code",
   "execution_count": 26,
   "id": "f47aa0a2",
   "metadata": {},
   "outputs": [
    {
     "data": {
      "text/plain": [
       "90"
      ]
     },
     "execution_count": 26,
     "metadata": {},
     "output_type": "execute_result"
    }
   ],
   "source": [
    "max(set(), default = 90)"
   ]
  },
  {
   "cell_type": "code",
   "execution_count": 27,
   "id": "1c2513bd",
   "metadata": {},
   "outputs": [
    {
     "data": {
      "text/plain": [
       "-34"
      ]
     },
     "execution_count": 27,
     "metadata": {},
     "output_type": "execute_result"
    }
   ],
   "source": [
    "min(tuple(), default=-34)"
   ]
  },
  {
   "cell_type": "code",
   "execution_count": 28,
   "id": "2a72bafa",
   "metadata": {},
   "outputs": [
    {
     "data": {
      "text/plain": [
       "'s'"
      ]
     },
     "execution_count": 28,
     "metadata": {},
     "output_type": "execute_result"
    }
   ],
   "source": [
    "max(\"Abhishek\")"
   ]
  },
  {
   "cell_type": "code",
   "execution_count": 29,
   "id": "0fdeabc6",
   "metadata": {},
   "outputs": [
    {
     "ename": "ValueError",
     "evalue": "min() arg is an empty sequence",
     "output_type": "error",
     "traceback": [
      "\u001b[1;31m---------------------------------------------------------------------------\u001b[0m",
      "\u001b[1;31mValueError\u001b[0m                                Traceback (most recent call last)",
      "\u001b[1;32m~\\AppData\\Local\\Temp\\ipykernel_10184\\3203751623.py\u001b[0m in \u001b[0;36m<module>\u001b[1;34m\u001b[0m\n\u001b[1;32m----> 1\u001b[1;33m \u001b[0mmin\u001b[0m\u001b[1;33m(\u001b[0m\u001b[1;34m''\u001b[0m\u001b[1;33m)\u001b[0m\u001b[1;33m\u001b[0m\u001b[1;33m\u001b[0m\u001b[0m\n\u001b[0m",
      "\u001b[1;31mValueError\u001b[0m: min() arg is an empty sequence"
     ]
    }
   ],
   "source": [
    "min('')"
   ]
  },
  {
   "cell_type": "code",
   "execution_count": 30,
   "id": "eacdfc26",
   "metadata": {},
   "outputs": [
    {
     "data": {
      "text/plain": [
       "-8"
      ]
     },
     "execution_count": 30,
     "metadata": {},
     "output_type": "execute_result"
    }
   ],
   "source": [
    "min('', default=-8)"
   ]
  },
  {
   "cell_type": "code",
   "execution_count": 31,
   "id": "454432d0",
   "metadata": {},
   "outputs": [
    {
     "data": {
      "text/plain": [
       "[-90, -5, -4, -3, 1, 45, 89]"
      ]
     },
     "execution_count": 31,
     "metadata": {},
     "output_type": "execute_result"
    }
   ],
   "source": [
    "# key argument in sorted\n",
    "\n",
    "l = [-90,1,-3,-4,-5,89,45]\n",
    "sorted(l)"
   ]
  },
  {
   "cell_type": "code",
   "execution_count": 32,
   "id": "03b8acda",
   "metadata": {},
   "outputs": [
    {
     "data": {
      "text/plain": [
       "[1, -3, -4, -5, 45, 89, -90]"
      ]
     },
     "execution_count": 32,
     "metadata": {},
     "output_type": "execute_result"
    }
   ],
   "source": [
    "# Let us just say we want to sort in such a way that the number with highest square is at the end\n",
    "# lambda, keyword-only argument, higher-order func, sorted\n",
    "sorted(l, key=lambda x : x ** 2)"
   ]
  },
  {
   "cell_type": "markdown",
   "id": "84c0b960",
   "metadata": {},
   "source": [
    "## Higher order functions\n"
   ]
  },
  {
   "cell_type": "code",
   "execution_count": 33,
   "id": "cab7ccd8",
   "metadata": {},
   "outputs": [],
   "source": [
    "# higher order functions\n",
    "# A function which takes another function in parameter or which returns a func"
   ]
  },
  {
   "cell_type": "code",
   "execution_count": 36,
   "id": "090a50c0",
   "metadata": {},
   "outputs": [],
   "source": [
    "# function returning function\n",
    "\n",
    "# outer function\n",
    "def generate_func(name):\n",
    "    \n",
    "    # inner functions\n",
    "    def add(a,b):\n",
    "        return a+b\n",
    "    def mult(a,b):\n",
    "        return a * b\n",
    "    \n",
    "    if name == 'add':\n",
    "        return add\n",
    "    else:\n",
    "        return mult\n",
    "    \n",
    "f1 = generate_func('add')\n",
    "f2 = generate_func('mult')"
   ]
  },
  {
   "cell_type": "code",
   "execution_count": 38,
   "id": "8e1314cb",
   "metadata": {},
   "outputs": [
    {
     "data": {
      "text/plain": [
       "(5, 6)"
      ]
     },
     "execution_count": 38,
     "metadata": {},
     "output_type": "execute_result"
    }
   ],
   "source": [
    "f1(2,3), f2(2,3)"
   ]
  },
  {
   "cell_type": "code",
   "execution_count": 41,
   "id": "958ab4d5",
   "metadata": {},
   "outputs": [
    {
     "name": "stdout",
     "output_type": "stream",
     "text": [
      "add\n"
     ]
    }
   ],
   "source": [
    "# we can also pass functions to functions\n",
    "\n",
    "def higher_func(func):\n",
    "    print(func.__name__)\n",
    "    \n",
    "\n",
    "def add(x,y):\n",
    "    return x+y\n",
    "\n",
    "higher_func(add)"
   ]
  },
  {
   "cell_type": "code",
   "execution_count": 43,
   "id": "388b97b9",
   "metadata": {},
   "outputs": [
    {
     "data": {
      "text/plain": [
       "'Hello, Abhishek this is a great day'"
      ]
     },
     "execution_count": 43,
     "metadata": {},
     "output_type": "execute_result"
    }
   ],
   "source": [
    "def greet(name):\n",
    "    def helper():\n",
    "        return \" this is a great day\"\n",
    "    return f\"Hello, {name}\" + helper()\n",
    "\n",
    "greet('Abhishek')"
   ]
  },
  {
   "cell_type": "code",
   "execution_count": 44,
   "id": "4ac5375e",
   "metadata": {},
   "outputs": [],
   "source": [
    "def generate_func(name):\n",
    "    if name == 'add':\n",
    "        return lambda a,b : a+b\n",
    "    else:\n",
    "        return lambda a,b : a-b"
   ]
  },
  {
   "cell_type": "code",
   "execution_count": 45,
   "id": "64af79d0",
   "metadata": {},
   "outputs": [
    {
     "data": {
      "text/plain": [
       "5"
      ]
     },
     "execution_count": 45,
     "metadata": {},
     "output_type": "execute_result"
    }
   ],
   "source": [
    "generate_func('add')(2,3)"
   ]
  },
  {
   "cell_type": "code",
   "execution_count": 49,
   "id": "461825e6",
   "metadata": {},
   "outputs": [
    {
     "name": "stdout",
     "output_type": "stream",
     "text": [
      "The values is (1, 2, 4)\n"
     ]
    }
   ],
   "source": [
    "# star parameters\n",
    "def add(*values):\n",
    "    print(f\"The values is {values}\")\n",
    "    \n",
    "add(1,2,4)\n"
   ]
  },
  {
   "cell_type": "markdown",
   "id": "d284f0ed",
   "metadata": {},
   "source": [
    "# inner functions"
   ]
  },
  {
   "cell_type": "code",
   "execution_count": 62,
   "id": "5b18a562",
   "metadata": {},
   "outputs": [],
   "source": [
    "def outer(x,y):\n",
    "    var = 23\n",
    "    # inner functions can access the values of outer function\n",
    "    def helper(x):\n",
    "        return hex(id(x))\n",
    "    def inner():\n",
    "        print(helper(x), helper(y), helper(var))\n",
    "        return x + y\n",
    "    return inner\n",
    "\n",
    "f = outer(2,3)"
   ]
  },
  {
   "cell_type": "code",
   "execution_count": 63,
   "id": "91bae42f",
   "metadata": {},
   "outputs": [
    {
     "data": {
      "text/plain": [
       "(<function __main__.outer.<locals>.inner()>,\n",
       " (<cell at 0x0000020AF7BEAE80: function object at 0x0000020AF74564C0>,\n",
       "  <cell at 0x0000020AF7BEA8B0: int object at 0x0000020AF0346BF0>,\n",
       "  <cell at 0x0000020AF7BEA580: int object at 0x0000020AF0346950>,\n",
       "  <cell at 0x0000020AF7BEACA0: int object at 0x0000020AF0346970>),\n",
       " cell,\n",
       " tuple)"
      ]
     },
     "execution_count": 63,
     "metadata": {},
     "output_type": "execute_result"
    }
   ],
   "source": [
    "f, f.__closure__, type(f.__closure__[0]), type(f.__closure__)"
   ]
  },
  {
   "cell_type": "code",
   "execution_count": 64,
   "id": "7376469a",
   "metadata": {},
   "outputs": [
    {
     "name": "stdout",
     "output_type": "stream",
     "text": [
      "0x20af0346950 0x20af0346970 0x20af0346bf0\n"
     ]
    },
    {
     "data": {
      "text/plain": [
       "5"
      ]
     },
     "execution_count": 64,
     "metadata": {},
     "output_type": "execute_result"
    }
   ],
   "source": [
    "f()"
   ]
  },
  {
   "cell_type": "code",
   "execution_count": 65,
   "id": "87f97478",
   "metadata": {},
   "outputs": [],
   "source": [
    "# closures -- inner function + little extra is called closure"
   ]
  },
  {
   "cell_type": "code",
   "execution_count": null,
   "id": "9ffe8787",
   "metadata": {},
   "outputs": [],
   "source": [
    "# decorator vs speed_test\n",
    "\n",
    "@speed_test"
   ]
  }
 ],
 "metadata": {
  "kernelspec": {
   "display_name": "Python 3 (ipykernel)",
   "language": "python",
   "name": "python3"
  },
  "language_info": {
   "codemirror_mode": {
    "name": "ipython",
    "version": 3
   },
   "file_extension": ".py",
   "mimetype": "text/x-python",
   "name": "python",
   "nbconvert_exporter": "python",
   "pygments_lexer": "ipython3",
   "version": "3.9.13"
  }
 },
 "nbformat": 4,
 "nbformat_minor": 5
}
